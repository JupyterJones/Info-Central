{
 "cells": [
  {
   "cell_type": "markdown",
   "id": "0bf4a8f3-ad21-4dea-aca2-8e448f5e2eed",
   "metadata": {},
   "source": [
    "# Printing\n",
    "\n",
    "the way the printing is done can be configured.\n",
    "By default we use a pretty printer different from the default print"
   ]
  },
  {
   "cell_type": "code",
   "execution_count": 1,
   "id": "3be94106-f52e-4b46-80e3-0faf1b817629",
   "metadata": {},
   "outputs": [
    {
     "name": "stdout",
     "output_type": "stream",
     "text": [
      "print pretty: \n",
      "{ \n",
      "  table_key = 1 \n",
      "} \n",
      "\n",
      "print default: \n",
      "table: 0x55981f7b91a0\n",
      "\n",
      "print pretty again:\n",
      "{ \n",
      "  table_key = 1 \n",
      "} \n"
     ]
    }
   ],
   "source": [
    "-- by default we use a nice pretty-printer\n",
    "print(\"print pretty:\")\n",
    "a_table = {table_key=1}\n",
    "print(a_table)\n",
    "\n",
    "--to use luas default \n",
    "print(\"\\nprint default:\")\n",
    "ilua.config.printer = \"print\"\n",
    "print( a_table)\n",
    "\n",
    "--to use pretty printer again\n",
    "print(\"\\nprint pretty again:\")\n",
    "ilua.config.printer = \"pprint\"\n",
    "print(a_table)"
   ]
  },
  {
   "cell_type": "markdown",
   "id": "5b0cd1ff-e474-499c-bba0-919b968e9009",
   "metadata": {
    "tags": []
   },
   "source": [
    "## Auto printing\n",
    "when executing a cell, xeus-lua tries to print the statement."
   ]
  },
  {
   "cell_type": "code",
   "execution_count": 2,
   "id": "b67aba32-caaf-4186-b25a-da5fffae3759",
   "metadata": {},
   "outputs": [
    {
     "name": "stdout",
     "output_type": "stream",
     "text": [
      "{ 1, 1, 1 } \n"
     ]
    }
   ],
   "source": [
    "-- this will be printed since print({1,1,1}) is a valid statement\n",
    "{1,1,1}"
   ]
  },
  {
   "cell_type": "code",
   "execution_count": 3,
   "id": "056797e1-d7c0-4ab5-9f6b-dc0b81f9d209",
   "metadata": {},
   "outputs": [],
   "source": [
    "-- this will not be printend since print(a={1,1,1}) is not a valid statement\n",
    "a = {1,1,1}"
   ]
  },
  {
   "cell_type": "code",
   "execution_count": 4,
   "id": "420c3a76-fd46-43ce-b820-c7a8ca429796",
   "metadata": {},
   "outputs": [],
   "source": [
    "function fobar()\n",
    "    return \"this is fobar\"\n",
    "end"
   ]
  },
  {
   "cell_type": "code",
   "execution_count": 5,
   "id": "30594aa3-fc0b-439d-8bcf-26bbe16b6c7c",
   "metadata": {},
   "outputs": [
    {
     "name": "stdout",
     "output_type": "stream",
     "text": [
      "this is fobar \n"
     ]
    }
   ],
   "source": [
    "-- the function result will be printed\n",
    "fobar()"
   ]
  },
  {
   "cell_type": "markdown",
   "id": "59cbfa22-2bed-46d0-b5fd-e170de77e5fb",
   "metadata": {},
   "source": [
    "this automatic printing behavior can be disabled"
   ]
  },
  {
   "cell_type": "code",
   "execution_count": 6,
   "id": "cb6c03ee-d4df-4530-9782-f79081cc3e9d",
   "metadata": {},
   "outputs": [
    {
     "ename": "[string \"iilua.config.auto_print = false\"]:1: attempt to index a nil value (global 'iilua')",
     "evalue": "[string \"iilua.config.auto_print = false\"]:1: attempt to index a nil value (global 'iilua')",
     "output_type": "error",
     "traceback": [
      "[string \"iilua.config.auto_print = false\"]:1: attempt to index a nil value (global 'iilua')"
     ]
    }
   ],
   "source": [
    "iilua.config.auto_print = false"
   ]
  },
  {
   "cell_type": "code",
   "execution_count": 7,
   "id": "59d31413-11ae-4bfa-bc46-4a01b8b5c8d8",
   "metadata": {},
   "outputs": [
    {
     "name": "stdout",
     "output_type": "stream",
     "text": [
      "this is fobar \n"
     ]
    }
   ],
   "source": [
    "-- the function result will **not** be printed\n",
    "fobar()"
   ]
  },
  {
   "cell_type": "code",
   "execution_count": 8,
   "id": "cb8a9995-433a-4ced-ab34-d5c72be47bf1",
   "metadata": {},
   "outputs": [],
   "source": [
    "-- set back to the defaults\n",
    "ilua.config.auto_print = true"
   ]
  },
  {
   "cell_type": "markdown",
   "id": "a748381f-18ea-451f-b242-4599b87bab67",
   "metadata": {},
   "source": [
    "## Get user Input\n",
    "an detailed example can be found in `io.ipynb`"
   ]
  },
  {
   "cell_type": "code",
   "execution_count": 9,
   "id": "c83a3db2-9765-416d-89bd-7a7ff3a5db70",
   "metadata": {},
   "outputs": [
    {
     "name": "stdin",
     "output_type": "stream",
     "text": [
      " jack\n"
     ]
    },
    {
     "name": "stdout",
     "output_type": "stream",
     "text": [
      "Hello jack, nice to meet you! \n"
     ]
    }
   ],
   "source": [
    "name = io.read()\n",
    "print(string.format(\"Hello %s, nice to meet you!\", name))"
   ]
  },
  {
   "cell_type": "markdown",
   "id": "d0ca0b96-ca79-4288-9ad8-c474b08d94ae",
   "metadata": {},
   "source": [
    "## Display Data"
   ]
  },
  {
   "cell_type": "code",
   "execution_count": 10,
   "id": "685f2b1d-27d3-4c55-99b9-999091dfac27",
   "metadata": {},
   "outputs": [
    {
     "name": "stdout",
     "output_type": "stream",
     "text": [
      "Latex: \n"
     ]
    },
    {
     "data": {
      "text/latex": [
       "    $a = \\sum_i x_i$\n",
       "    \\[ x^n + y^n = z^n \\]\n"
      ]
     },
     "metadata": {},
     "output_type": "display_data"
    },
    {
     "name": "stdout",
     "output_type": "stream",
     "text": [
      "\n",
      "Plain Boring Text: \n"
     ]
    },
    {
     "data": {
      "text/plain": [
       "some boring text"
      ]
     },
     "metadata": {},
     "output_type": "display_data"
    },
    {
     "name": "stdout",
     "output_type": "stream",
     "text": [
      "\n",
      "JSON: \n"
     ]
    },
    {
     "data": {
      "application/json": [
       "a",
       1,
       false,
       {
        "other_key": {
         "k": "v"
        },
        "some_key": "string value"
       }
      ]
     },
     "metadata": {},
     "output_type": "display_data"
    },
    {
     "name": "stdout",
     "output_type": "stream",
     "text": [
      "\n",
      "Html \n"
     ]
    },
    {
     "data": {
      "text/html": [
       "<table>\n",
       "  <tr>\n",
       "    <th>xeus-lua</th>\n",
       "    <th>xeus-ptyhon</th>\n",
       "    <th>xeus-cling</th>\n",
       "  </tr>\n",
       "  <tr>\n",
       "    <td>lua</td>\n",
       "    <td>python</td>\n",
       "    <td>C++</td>\n",
       "  </tr>\n",
       "  <tr>\n",
       "    <td>16</td>\n",
       "    <td>14</td>\n",
       "    <td>10</td>\n",
       "  </tr>\n",
       "</table>\n"
      ]
     },
     "metadata": {},
     "output_type": "display_data"
    }
   ],
   "source": [
    "print(\"Latex:\")\n",
    "ilua.display.latex([[\n",
    "    $a = \\sum_i x_i$\n",
    "    \\[ x^n + y^n = z^n \\]\n",
    "]])\n",
    "\n",
    "print(\"\\nPlain Boring Text:\")\n",
    "ilua.display.plain_text(\"some boring text\")\n",
    "\n",
    "print(\"\\nJSON:\")\n",
    "ilua.display.json({\n",
    "   \"a\", 1,false, {some_key = \"string value\", other_key = {k=\"v\"}}\n",
    "})\n",
    "\n",
    "print(\"\\nHtml\")\n",
    "ilua.display.html([[\n",
    "<table>\n",
    "  <tr>\n",
    "    <th>xeus-lua</th>\n",
    "    <th>xeus-ptyhon</th>\n",
    "    <th>xeus-cling</th>\n",
    "  </tr>\n",
    "  <tr>\n",
    "    <td>lua</td>\n",
    "    <td>python</td>\n",
    "    <td>C++</td>\n",
    "  </tr>\n",
    "  <tr>\n",
    "    <td>16</td>\n",
    "    <td>14</td>\n",
    "    <td>10</td>\n",
    "  </tr>\n",
    "</table>\n",
    "]])"
   ]
  },
  {
   "cell_type": "markdown",
   "id": "7aab470e-d152-48df-97a1-51d020055f73",
   "metadata": {
    "tags": []
   },
   "source": [
    "# Widgets\n",
    "an detailed example of all widgets can be found in `widgets.ipynb`"
   ]
  },
  {
   "cell_type": "code",
   "execution_count": null,
   "id": "d74a3931-7196-4534-a595-55a5920a3d81",
   "metadata": {},
   "outputs": [],
   "source": []
  },
  {
   "cell_type": "markdown",
   "id": "e7aab432-11df-4863-8865-52563e34e1fc",
   "metadata": {
    "tags": []
   },
   "source": [
    "# Issues\n"
   ]
  },
  {
   "cell_type": "code",
   "execution_count": null,
   "id": "cc69f440-ce2a-4e5a-aa07-c69009f7def2",
   "metadata": {},
   "outputs": [],
   "source": []
  }
 ],
 "metadata": {
  "kernelspec": {
   "display_name": "Lua  (XLua)",
   "language": "lua",
   "name": "xlua"
  },
  "language_info": {
   "file_extension": ".lua",
   "mimetype": "text/x-luasrc",
   "name": "lua",
   "version": "14.0.0"
  }
 },
 "nbformat": 4,
 "nbformat_minor": 5
}
