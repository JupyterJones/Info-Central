{
 "cells": [
  {
   "cell_type": "code",
   "execution_count": 1,
   "id": "58496a2b",
   "metadata": {},
   "outputs": [
    {
     "name": "stdout",
     "output_type": "stream",
     "text": [
      "FFMPEG\n",
      "NUMPY-CV2\n",
      "C++\n",
      "JUPYTER\n",
      "DOCKER\n",
      "PIL\n",
      "JAVASCRIPTDOCS\n",
      "PYTHON\n",
      "NODEJS\n",
      "JAVASCRIPT\n",
      "KEEP-NOTES\n",
      "TWITTER\n",
      "TKINTER\n",
      "HTML-CSS\n",
      "VISUALCODE\n",
      "BASH\n"
     ]
    }
   ],
   "source": [
    "import os\n",
    "directorylist = []\n",
    "def listdir_nohidden(path):\n",
    "    for f in os.listdir(path):\n",
    "        if not f.startswith('.'):\n",
    "            yield f\n",
    "path =\"/home/jack/Desktop/SITE/lbry-react\" \n",
    "FOLDERS = listdir_nohidden(path)\n",
    "for directories in FOLDERS:\n",
    "    if directories != \"cs\" and directories != \"README.md\" and directories != \"index.html\":\n",
    "        directorylist.append(directories)\n",
    "        print(directories)"
   ]
  },
  {
   "cell_type": "code",
   "execution_count": 2,
   "id": "c6e35978",
   "metadata": {},
   "outputs": [
    {
     "name": "stdout",
     "output_type": "stream",
     "text": [
      "/home/jack/Desktop/SITE/lbry-react/index.html\n",
      "/home/jack/Desktop/SITE/lbry-react/NUMPY-CV2/index.html\n",
      "/home/jack/Desktop/SITE/lbry-react/DOCKER/index.html\n",
      "/home/jack/Desktop/SITE/lbry-react/PIL/index.html\n",
      "/home/jack/Desktop/SITE/lbry-react/PYTHON/index.html\n",
      "/home/jack/Desktop/SITE/lbry-react/NODEJS/index.html\n",
      "/home/jack/Desktop/SITE/lbry-react/KEEP-NOTES/index.html\n",
      "/home/jack/Desktop/SITE/lbry-react/TWITTER/index.html\n",
      "/home/jack/Desktop/SITE/lbry-react/TKINTER/index.html\n",
      "/home/jack/Desktop/SITE/lbry-react/HTML-CSS/index.html\n",
      "/home/jack/Desktop/SITE/lbry-react/VISUALCODE/index.html\n",
      "/home/jack/Desktop/SITE/lbry-react/BASH/index.html\n"
     ]
    }
   ],
   "source": [
    "folderandindex =[]\n",
    "import os\n",
    "rootdir=(\"/home/jack/Desktop/SITE/lbry-react\" )\n",
    "for folder, dirs, files in os.walk(rootdir):\n",
    "    for file in files:\n",
    "        if file.endswith('.html'):\n",
    "            fullpath = os.path.join(folder, file)\n",
    "            if \"docs\" not in fullpath and fullpath.endswith(\"index.html\"):\n",
    "                with open(fullpath, 'r') as f:\n",
    "                    for line in f:\n",
    "                        if \"wrapper\" in line:\n",
    "                            folderandindex.append(fullpath)\n",
    "                            print(fullpath)\n",
    "                            break\n",
    "                        \n"
   ]
  },
  {
   "cell_type": "code",
   "execution_count": 3,
   "id": "b803b7d5",
   "metadata": {},
   "outputs": [
    {
     "name": "stdout",
     "output_type": "stream",
     "text": [
      "Overwriting /home/jack/hidden/Findword.py\n"
     ]
    }
   ],
   "source": [
    "%%writefile /home/jack/hidden/Findword.py\n",
    "folderandindex =[]\n",
    "import os\n",
    "def Findword(rootdir, term):\n",
    "    for folder, dirs, files in os.walk(rootdir):\n",
    "        for file in files:\n",
    "            #if file.endswith('.html'):\n",
    "            fullpath = os.path.join(folder, file)\n",
    "            if \"docs\" not in fullpath and fullpath.endswith(\"index.html\"):\n",
    "                with open(fullpath, 'r') as f:\n",
    "                    for line in f:\n",
    "                        if term in line:\n",
    "                            folderandindex.append(fullpath)\n",
    "                            print(fullpath)\n",
    "                            break\n",
    "                        \n",
    "rootdir=(\"/home/jack/Desktop/SITE/lbry-react\")\n",
    "term = (\"php\")\n",
    "Findword(rootdir, term)"
   ]
  },
  {
   "cell_type": "code",
   "execution_count": 4,
   "id": "06af1849",
   "metadata": {},
   "outputs": [
    {
     "name": "stdout",
     "output_type": "stream",
     "text": [
      "/home/jack/Desktop/SITE/lbry-react/index.html\n",
      "/home/jack/Desktop/SITE/lbry-react/NUMPY-CV2/index.html\n",
      "/home/jack/Desktop/SITE/lbry-react/DOCKER/index.html\n",
      "/home/jack/Desktop/SITE/lbry-react/PIL/index.html\n",
      "/home/jack/Desktop/SITE/lbry-react/PYTHON/index.html\n",
      "/home/jack/Desktop/SITE/lbry-react/NODEJS/index.html\n",
      "/home/jack/Desktop/SITE/lbry-react/KEEP-NOTES/index.html\n",
      "/home/jack/Desktop/SITE/lbry-react/TWITTER/index.html\n",
      "/home/jack/Desktop/SITE/lbry-react/TKINTER/index.html\n",
      "/home/jack/Desktop/SITE/lbry-react/HTML-CSS/index.html\n",
      "/home/jack/Desktop/SITE/lbry-react/VISUALCODE/index.html\n",
      "/home/jack/Desktop/SITE/lbry-react/BASH/index.html\n"
     ]
    }
   ],
   "source": [
    "for filenames in folderandindex:\n",
    "    print(filenames)"
   ]
  },
  {
   "cell_type": "code",
   "execution_count": 5,
   "id": "cf98dda9",
   "metadata": {},
   "outputs": [
    {
     "name": "stdout",
     "output_type": "stream",
     "text": [
      "APIkeys.py  Findword.py  __init__.py  __pycache__\r\n"
     ]
    }
   ],
   "source": [
    "!ls  /home/jack/hidden/"
   ]
  },
  {
   "cell_type": "code",
   "execution_count": null,
   "id": "099e6172",
   "metadata": {},
   "outputs": [
    {
     "name": "stdout",
     "output_type": "stream",
     "text": [
      "\n",
      "Please wait a moment while I gather a list of all available modules...\n",
      "\n"
     ]
    }
   ],
   "source": [
    "help(\"modules\")"
   ]
  },
  {
   "cell_type": "code",
   "execution_count": 2,
   "id": "1608a9d3",
   "metadata": {},
   "outputs": [
    {
     "ename": "ModuleNotFoundError",
     "evalue": "No module named 'APIkeys'",
     "output_type": "error",
     "traceback": [
      "\u001b[0;31m---------------------------------------------------------------------------\u001b[0m",
      "\u001b[0;31mModuleNotFoundError\u001b[0m                       Traceback (most recent call last)",
      "Input \u001b[0;32mIn [2]\u001b[0m, in \u001b[0;36m<cell line: 1>\u001b[0;34m()\u001b[0m\n\u001b[0;32m----> 1\u001b[0m \u001b[38;5;28;01mimport\u001b[39;00m \u001b[38;5;21;01mAPIkeys\u001b[39;00m\n",
      "\u001b[0;31mModuleNotFoundError\u001b[0m: No module named 'APIkeys'"
     ]
    }
   ],
   "source": [
    "import APIkeys"
   ]
  },
  {
   "cell_type": "code",
   "execution_count": 78,
   "id": "f8cabeff",
   "metadata": {},
   "outputs": [
    {
     "name": "stdout",
     "output_type": "stream",
     "text": [
      "/home/jack/Desktop/SITE/lbry-react/index.html\n",
      "/home/jack/Desktop/SITE/lbry-react/FFMPEG/GMIC-compile-with-g++.html\n",
      "/home/jack/Desktop/SITE/lbry-react/FFMPEG/FFMPEG1525.html\n",
      "/home/jack/Desktop/SITE/lbry-react/NUMPY-CV2/index.html\n",
      "/home/jack/Desktop/SITE/lbry-react/JUPYTER/index2.html\n",
      "/home/jack/Desktop/SITE/lbry-react/DOCKER/index.html\n",
      "/home/jack/Desktop/SITE/lbry-react/PIL/index.html\n",
      "/home/jack/Desktop/SITE/lbry-react/PYTHON/index.html\n",
      "/home/jack/Desktop/SITE/lbry-react/NODEJS/index.html\n",
      "/home/jack/Desktop/SITE/lbry-react/KEEP-NOTES/index.html\n",
      "/home/jack/Desktop/SITE/lbry-react/TWITTER/index.html\n",
      "/home/jack/Desktop/SITE/lbry-react/TKINTER/index.html\n",
      "/home/jack/Desktop/SITE/lbry-react/HTML-CSS/index.html\n",
      "/home/jack/Desktop/SITE/lbry-react/VISUALCODE/index.html\n",
      "/home/jack/Desktop/SITE/lbry-react/BASH/index.html\n"
     ]
    }
   ],
   "source": [
    "import os\n",
    "\n",
    "def Findword(rootdir, term):\n",
    "    for folder, dirs, files in os.walk(rootdir):\n",
    "        for file in files:\n",
    "            if file.endswith('.html'):\n",
    "                fullpath = os.path.join(folder, file)\n",
    "                if \"docs\" not in fullpath:\n",
    "                    with open(fullpath, 'r') as f:\n",
    "                        for line in f:\n",
    "                            if term in line:\n",
    "                                print(fullpath)\n",
    "                                break\n",
    "                        \n",
    "rootdir=(\"/home/jack/Desktop/SITE/lbry-react\")\n",
    "term = \"wrapper\"\n",
    "Findword(rootdir, term)"
   ]
  },
  {
   "cell_type": "code",
   "execution_count": 48,
   "id": "db16bb02",
   "metadata": {},
   "outputs": [
    {
     "name": "stdout",
     "output_type": "stream",
     "text": [
      "FFMPEG\n",
      "NUMPY-CV2\n",
      "index.html\n",
      "C++\n",
      "JUPYTER\n",
      "README.md\n",
      "DOCKER\n",
      ".git\n",
      "PIL\n",
      "cs\n",
      "JAVASCRIPTDOCS\n",
      "PYTHON\n",
      "NODEJS\n",
      "JAVASCRIPT\n",
      "KEEP-NOTES\n",
      "TWITTER\n",
      "TKINTER\n",
      "HTML-CSS\n",
      "VISUALCODE\n",
      "BASH\n"
     ]
    }
   ],
   "source": [
    "import os\n",
    "p=os.listdir('/home/jack/Desktop/SITE/lbry-react')\n",
    "for i in p:\n",
    "    print(i)\n",
    "    if os.path.isdir(i):\n",
    "        if \"\\.\" not in i:\n",
    "            print(i)"
   ]
  },
  {
   "cell_type": "code",
   "execution_count": 30,
   "id": "e7ee7d0f",
   "metadata": {},
   "outputs": [
    {
     "name": "stdout",
     "output_type": "stream",
     "text": [
      "/home/jack/Desktop/SITE/index.html\n",
      "/home/jack/Desktop/SITE/lbry-react/index.html\n",
      "/home/jack/Desktop/SITE/lbry-react/FFMPEG/index.html\n",
      "/home/jack/Desktop/SITE/lbry-react/FFMPEG/use/index.html\n",
      "/home/jack/Desktop/SITE/lbry-react/FFMPEG/images/index.html\n",
      "/home/jack/Desktop/SITE/lbry-react/FFMPEG/ipynb-media/index.html\n",
      "/home/jack/Desktop/SITE/lbry-react/FFMPEG/vids/index.html\n",
      "/home/jack/Desktop/SITE/lbry-react/FFMPEG/JPG/index.html\n",
      "/home/jack/Desktop/SITE/lbry-react/FFMPEG/Cambodian-Odyssey/index.html\n",
      "/home/jack/Desktop/SITE/lbry-react/NUMPY-CV2/index.html\n",
      "/home/jack/Desktop/SITE/lbry-react/NUMPY-CV2/intents_dstc2_v11/index.html\n",
      "/home/jack/Desktop/SITE/lbry-react/NUMPY-CV2/PIL/index.html\n",
      "/home/jack/Desktop/SITE/lbry-react/C++/index.html\n",
      "/home/jack/Desktop/SITE/lbry-react/JUPYTER/index.html\n",
      "/home/jack/Desktop/SITE/lbry-react/DOCKER/index.html\n",
      "/home/jack/Desktop/SITE/lbry-react/DOCKER/images/index.html\n",
      "/home/jack/Desktop/SITE/lbry-react/DOCKER/css/index.html\n",
      "/home/jack/Desktop/SITE/lbry-react/DOCKER/experimental-images/index.html\n",
      "/home/jack/Desktop/SITE/lbry-react/PIL/index.html\n",
      "/home/jack/Desktop/SITE/lbry-react/cs/index.html\n",
      "/home/jack/Desktop/SITE/lbry-react/JAVASCRIPTDOCS/index.html\n",
      "/home/jack/Desktop/SITE/lbry-react/PYTHON/index.html\n",
      "/home/jack/Desktop/SITE/lbry-react/PYTHON/template/index.html\n",
      "/home/jack/Desktop/SITE/lbry-react/PYTHON/template/css/index.html\n",
      "/home/jack/Desktop/SITE/lbry-react/PYTHON/unpkg/index.html\n",
      "/home/jack/Desktop/SITE/lbry-react/PYTHON/docs.python.org/index.html\n",
      "/home/jack/Desktop/SITE/lbry-react/PYTHON/docs.python.org/3/index.html\n",
      "/home/jack/Desktop/SITE/lbry-react/PYTHON/docs.python.org/3/_static/index.html\n",
      "/home/jack/Desktop/SITE/lbry-react/PYTHON/docs.python.org/3/library/index.html\n",
      "/home/jack/Desktop/SITE/lbry-react/PYTHON/docs.python.org/3/_images/index.html\n",
      "/home/jack/Desktop/SITE/lbry-react/NODEJS/index.html\n",
      "/home/jack/Desktop/SITE/lbry-react/JAVASCRIPT/index.html\n",
      "/home/jack/Desktop/SITE/lbry-react/JAVASCRIPT/js/index.html\n",
      "/home/jack/Desktop/SITE/lbry-react/JAVASCRIPT/css/index.html\n",
      "/home/jack/Desktop/SITE/lbry-react/JAVASCRIPT/img/index.html\n",
      "/home/jack/Desktop/SITE/lbry-react/JAVASCRIPT/lib/index.html\n",
      "/home/jack/Desktop/SITE/lbry-react/JAVASCRIPT/lib/ionic/index.html\n",
      "/home/jack/Desktop/SITE/lbry-react/JAVASCRIPT/lib/ionic/scss/index.html\n",
      "/home/jack/Desktop/SITE/lbry-react/JAVASCRIPT/lib/ionic/scss/ionicons/index.html\n",
      "/home/jack/Desktop/SITE/lbry-react/JAVASCRIPT/lib/ionic/js/index.html\n",
      "/home/jack/Desktop/SITE/lbry-react/JAVASCRIPT/lib/ionic/js/angular-ui/index.html\n",
      "/home/jack/Desktop/SITE/lbry-react/JAVASCRIPT/lib/ionic/js/angular/index.html\n",
      "/home/jack/Desktop/SITE/lbry-react/JAVASCRIPT/lib/ionic/fonts/index.html\n",
      "/home/jack/Desktop/SITE/lbry-react/JAVASCRIPT/lib/ionic/css/index.html\n",
      "/home/jack/Desktop/SITE/lbry-react/KEEP-NOTES/index.html\n",
      "/home/jack/Desktop/SITE/lbry-react/TWITTER/index.html\n",
      "/home/jack/Desktop/SITE/lbry-react/TWITTER/SuperTwitterBot-master/index.html\n",
      "/home/jack/Desktop/SITE/lbry-react/TWITTER/SuperTwitterBot-master/__pycache__/index.html\n",
      "/home/jack/Desktop/SITE/lbry-react/TWITTER/args_csv_Twython_ImageBot-master/index.html\n",
      "/home/jack/Desktop/SITE/lbry-react/TWITTER/Twitter-cloud-image-generator-master/index.html\n",
      "/home/jack/Desktop/SITE/lbry-react/TWITTER/Twitter-cloud-image-generator-master/images/index.html\n",
      "/home/jack/Desktop/SITE/lbry-react/TWITTER/fonts/index.html\n",
      "/home/jack/Desktop/SITE/lbry-react/TWITTER/images/index.html\n",
      "/home/jack/Desktop/SITE/lbry-react/TWITTER/Twitter-API-v2-sample-code-main/index.html\n",
      "/home/jack/Desktop/SITE/lbry-react/TWITTER/Twitter-API-v2-sample-code-main/Mutes-Lookup/index.html\n",
      "/home/jack/Desktop/SITE/lbry-react/TWITTER/Twitter-API-v2-sample-code-main/Blocks-Lookup/index.html\n",
      "/home/jack/Desktop/SITE/lbry-react/TWITTER/Twitter-API-v2-sample-code-main/Manage-Bookmarks/index.html\n",
      "/home/jack/Desktop/SITE/lbry-react/TWITTER/Twitter-API-v2-sample-code-main/Filtered-Stream/index.html\n",
      "/home/jack/Desktop/SITE/lbry-react/TWITTER/Twitter-API-v2-sample-code-main/Recent-Search/index.html\n",
      "/home/jack/Desktop/SITE/lbry-react/TWITTER/Twitter-API-v2-sample-code-main/Manage-Likes/index.html\n",
      "/home/jack/Desktop/SITE/lbry-react/TWITTER/Twitter-API-v2-sample-code-main/User-Lookup/index.html\n",
      "/home/jack/Desktop/SITE/lbry-react/TWITTER/Twitter-API-v2-sample-code-main/List-lookup/index.html\n",
      "/home/jack/Desktop/SITE/lbry-react/TWITTER/Twitter-API-v2-sample-code-main/List-lookup/List-Tweets-lookup/index.html\n",
      "/home/jack/Desktop/SITE/lbry-react/TWITTER/Twitter-API-v2-sample-code-main/List-lookup/Pinned-Lists-lookup/index.html\n",
      "/home/jack/Desktop/SITE/lbry-react/TWITTER/Twitter-API-v2-sample-code-main/List-lookup/List-members-lookup/index.html\n",
      "/home/jack/Desktop/SITE/lbry-react/TWITTER/Twitter-API-v2-sample-code-main/List-lookup/List-follows-lookup/index.html\n",
      "/home/jack/Desktop/SITE/lbry-react/TWITTER/Twitter-API-v2-sample-code-main/Reverse-Chron-Home-Timeline/index.html\n",
      "/home/jack/Desktop/SITE/lbry-react/TWITTER/Twitter-API-v2-sample-code-main/Reverse-Chron-Home-Timeline/OAuth2-user/index.html\n",
      "/home/jack/Desktop/SITE/lbry-react/TWITTER/Twitter-API-v2-sample-code-main/Reverse-Chron-Home-Timeline/OAuth1a-user/index.html\n",
      "/home/jack/Desktop/SITE/lbry-react/TWITTER/Twitter-API-v2-sample-code-main/Tweet-Lookup/index.html\n",
      "/home/jack/Desktop/SITE/lbry-react/TWITTER/Twitter-API-v2-sample-code-main/Batch-Compliance/index.html\n",
      "/home/jack/Desktop/SITE/lbry-react/TWITTER/Twitter-API-v2-sample-code-main/Batch-Compliance/java/index.html\n",
      "/home/jack/Desktop/SITE/lbry-react/TWITTER/Twitter-API-v2-sample-code-main/Batch-Compliance/java/src/index.html\n",
      "/home/jack/Desktop/SITE/lbry-react/TWITTER/Twitter-API-v2-sample-code-main/Batch-Compliance/java/src/main/index.html\n",
      "/home/jack/Desktop/SITE/lbry-react/TWITTER/Twitter-API-v2-sample-code-main/Batch-Compliance/java/src/main/java/index.html\n",
      "/home/jack/Desktop/SITE/lbry-react/TWITTER/Twitter-API-v2-sample-code-main/Batch-Compliance/js/index.html\n",
      "/home/jack/Desktop/SITE/lbry-react/TWITTER/Twitter-API-v2-sample-code-main/Batch-Compliance/python/index.html\n",
      "/home/jack/Desktop/SITE/lbry-react/TWITTER/Twitter-API-v2-sample-code-main/Likes-Lookup/index.html\n",
      "/home/jack/Desktop/SITE/lbry-react/TWITTER/Twitter-API-v2-sample-code-main/Manage-Blocks/index.html\n",
      "/home/jack/Desktop/SITE/lbry-react/TWITTER/Twitter-API-v2-sample-code-main/Manage-Lists/index.html\n",
      "/home/jack/Desktop/SITE/lbry-react/TWITTER/Twitter-API-v2-sample-code-main/Manage-Lists/Manage-Followed-Lists/index.html\n",
      "/home/jack/Desktop/SITE/lbry-react/TWITTER/Twitter-API-v2-sample-code-main/Manage-Lists/Manage-Pinned-Lists/index.html\n",
      "/home/jack/Desktop/SITE/lbry-react/TWITTER/Twitter-API-v2-sample-code-main/Manage-Lists/Manage-List-Members/index.html\n",
      "/home/jack/Desktop/SITE/lbry-react/TWITTER/Twitter-API-v2-sample-code-main/User-Tweet-Timeline/index.html\n",
      "/home/jack/Desktop/SITE/lbry-react/TWITTER/Twitter-API-v2-sample-code-main/Follows-Lookup/index.html\n",
      "/home/jack/Desktop/SITE/lbry-react/TWITTER/Twitter-API-v2-sample-code-main/Manage-Mutes/index.html\n",
      "/home/jack/Desktop/SITE/lbry-react/TWITTER/Twitter-API-v2-sample-code-main/Quote-Tweets/index.html\n",
      "/home/jack/Desktop/SITE/lbry-react/TWITTER/Twitter-API-v2-sample-code-main/Full-Archive-Tweet-Counts/index.html\n",
      "/home/jack/Desktop/SITE/lbry-react/TWITTER/Twitter-API-v2-sample-code-main/Sampled-Stream/index.html\n",
      "/home/jack/Desktop/SITE/lbry-react/TWITTER/Twitter-API-v2-sample-code-main/Retweets-Lookup/index.html\n",
      "/home/jack/Desktop/SITE/lbry-react/TWITTER/Twitter-API-v2-sample-code-main/Manage-Retweets/index.html\n",
      "/home/jack/Desktop/SITE/lbry-react/TWITTER/Twitter-API-v2-sample-code-main/User-Mention-Timeline/index.html\n",
      "/home/jack/Desktop/SITE/lbry-react/TWITTER/Twitter-API-v2-sample-code-main/Manage-Tweets/index.html\n",
      "/home/jack/Desktop/SITE/lbry-react/TWITTER/Twitter-API-v2-sample-code-main/Search-Spaces/index.html\n",
      "/home/jack/Desktop/SITE/lbry-react/TWITTER/Twitter-API-v2-sample-code-main/Spaces-Lookup/index.html\n",
      "/home/jack/Desktop/SITE/lbry-react/TWITTER/Twitter-API-v2-sample-code-main/Recent-Tweet-Counts/index.html\n",
      "/home/jack/Desktop/SITE/lbry-react/TWITTER/Twitter-API-v2-sample-code-main/Full-Archive-Search/index.html\n",
      "/home/jack/Desktop/SITE/lbry-react/TWITTER/Twitter-API-v2-sample-code-main/Bookmarks-lookup/index.html\n",
      "/home/jack/Desktop/SITE/lbry-react/TWITTER/instagram/index.html\n",
      "/home/jack/Desktop/SITE/lbry-react/TWITTER/junk2/index.html\n",
      "/home/jack/Desktop/SITE/lbry-react/TKINTER/index.html\n",
      "/home/jack/Desktop/SITE/lbry-react/TKINTER/template/index.html\n",
      "/home/jack/Desktop/SITE/lbry-react/TKINTER/template/css/index.html\n",
      "/home/jack/Desktop/SITE/lbry-react/TKINTER/unpkg/index.html\n",
      "/home/jack/Desktop/SITE/lbry-react/TKINTER/docs.python.org/index.html\n",
      "/home/jack/Desktop/SITE/lbry-react/TKINTER/docs.python.org/3/index.html\n",
      "/home/jack/Desktop/SITE/lbry-react/TKINTER/docs.python.org/3/_static/index.html\n",
      "/home/jack/Desktop/SITE/lbry-react/TKINTER/docs.python.org/3/library/index.html\n",
      "/home/jack/Desktop/SITE/lbry-react/TKINTER/docs.python.org/3/_images/index.html\n",
      "/home/jack/Desktop/SITE/lbry-react/HTML-CSS/index.html\n",
      "/home/jack/Desktop/SITE/lbry-react/VISUALCODE/index.html\n",
      "/home/jack/Desktop/SITE/lbry-react/BASH/index.html\n"
     ]
    }
   ],
   "source": [
    "for root, dirnames, filenames in os.walk(\"/home/jack/Desktop/SITE\"):\n",
    "    for filename in (filenames, extensions):\n",
    "        if filename == \"index.html\" :\n",
    "            Path =(os.path.join(root, filename))\n",
    "            if \"/.\" not in Path:\n",
    "                print (Path)"
   ]
  },
  {
   "cell_type": "code",
   "execution_count": 10,
   "id": "dc959b33",
   "metadata": {},
   "outputs": [
    {
     "name": "stdout",
     "output_type": "stream",
     "text": [
      "['/home/jack/Desktop/SITE/lbry-react/index.html']\n",
      "['/home/jack/Desktop/SITE/lbry-react/index.html', '/home/jack/Desktop/SITE/lbry-react/FFMPEG/index.html']\n",
      "['/home/jack/Desktop/SITE/lbry-react/index.html', '/home/jack/Desktop/SITE/lbry-react/FFMPEG/index.html', '/home/jack/Desktop/SITE/lbry-react/NUMPY-CV2/index.html']\n",
      "['/home/jack/Desktop/SITE/lbry-react/index.html', '/home/jack/Desktop/SITE/lbry-react/FFMPEG/index.html', '/home/jack/Desktop/SITE/lbry-react/NUMPY-CV2/index.html', '/home/jack/Desktop/SITE/lbry-react/C++/index.html']\n",
      "['/home/jack/Desktop/SITE/lbry-react/index.html', '/home/jack/Desktop/SITE/lbry-react/FFMPEG/index.html', '/home/jack/Desktop/SITE/lbry-react/NUMPY-CV2/index.html', '/home/jack/Desktop/SITE/lbry-react/C++/index.html', '/home/jack/Desktop/SITE/lbry-react/JUPYTER/index.html']\n",
      "['/home/jack/Desktop/SITE/lbry-react/index.html', '/home/jack/Desktop/SITE/lbry-react/FFMPEG/index.html', '/home/jack/Desktop/SITE/lbry-react/NUMPY-CV2/index.html', '/home/jack/Desktop/SITE/lbry-react/C++/index.html', '/home/jack/Desktop/SITE/lbry-react/JUPYTER/index.html', '/home/jack/Desktop/SITE/lbry-react/DOCKER/index.html']\n",
      "['/home/jack/Desktop/SITE/lbry-react/index.html', '/home/jack/Desktop/SITE/lbry-react/FFMPEG/index.html', '/home/jack/Desktop/SITE/lbry-react/NUMPY-CV2/index.html', '/home/jack/Desktop/SITE/lbry-react/C++/index.html', '/home/jack/Desktop/SITE/lbry-react/JUPYTER/index.html', '/home/jack/Desktop/SITE/lbry-react/DOCKER/index.html', '/home/jack/Desktop/SITE/lbry-react/PIL/index.html']\n",
      "['/home/jack/Desktop/SITE/lbry-react/index.html', '/home/jack/Desktop/SITE/lbry-react/FFMPEG/index.html', '/home/jack/Desktop/SITE/lbry-react/NUMPY-CV2/index.html', '/home/jack/Desktop/SITE/lbry-react/C++/index.html', '/home/jack/Desktop/SITE/lbry-react/JUPYTER/index.html', '/home/jack/Desktop/SITE/lbry-react/DOCKER/index.html', '/home/jack/Desktop/SITE/lbry-react/PIL/index.html', '/home/jack/Desktop/SITE/lbry-react/JAVASCRIPTDOCS/index.html']\n",
      "['/home/jack/Desktop/SITE/lbry-react/index.html', '/home/jack/Desktop/SITE/lbry-react/FFMPEG/index.html', '/home/jack/Desktop/SITE/lbry-react/NUMPY-CV2/index.html', '/home/jack/Desktop/SITE/lbry-react/C++/index.html', '/home/jack/Desktop/SITE/lbry-react/JUPYTER/index.html', '/home/jack/Desktop/SITE/lbry-react/DOCKER/index.html', '/home/jack/Desktop/SITE/lbry-react/PIL/index.html', '/home/jack/Desktop/SITE/lbry-react/JAVASCRIPTDOCS/index.html', '/home/jack/Desktop/SITE/lbry-react/PYTHON/index.html']\n",
      "['/home/jack/Desktop/SITE/lbry-react/index.html', '/home/jack/Desktop/SITE/lbry-react/FFMPEG/index.html', '/home/jack/Desktop/SITE/lbry-react/NUMPY-CV2/index.html', '/home/jack/Desktop/SITE/lbry-react/C++/index.html', '/home/jack/Desktop/SITE/lbry-react/JUPYTER/index.html', '/home/jack/Desktop/SITE/lbry-react/DOCKER/index.html', '/home/jack/Desktop/SITE/lbry-react/PIL/index.html', '/home/jack/Desktop/SITE/lbry-react/JAVASCRIPTDOCS/index.html', '/home/jack/Desktop/SITE/lbry-react/PYTHON/index.html', '/home/jack/Desktop/SITE/lbry-react/PYTHON/template/index.html']\n",
      "['/home/jack/Desktop/SITE/lbry-react/index.html', '/home/jack/Desktop/SITE/lbry-react/FFMPEG/index.html', '/home/jack/Desktop/SITE/lbry-react/NUMPY-CV2/index.html', '/home/jack/Desktop/SITE/lbry-react/C++/index.html', '/home/jack/Desktop/SITE/lbry-react/JUPYTER/index.html', '/home/jack/Desktop/SITE/lbry-react/DOCKER/index.html', '/home/jack/Desktop/SITE/lbry-react/PIL/index.html', '/home/jack/Desktop/SITE/lbry-react/JAVASCRIPTDOCS/index.html', '/home/jack/Desktop/SITE/lbry-react/PYTHON/index.html', '/home/jack/Desktop/SITE/lbry-react/PYTHON/template/index.html', '/home/jack/Desktop/SITE/lbry-react/PYTHON/docs.python.org/3/library/index.html']\n",
      "['/home/jack/Desktop/SITE/lbry-react/index.html', '/home/jack/Desktop/SITE/lbry-react/FFMPEG/index.html', '/home/jack/Desktop/SITE/lbry-react/NUMPY-CV2/index.html', '/home/jack/Desktop/SITE/lbry-react/C++/index.html', '/home/jack/Desktop/SITE/lbry-react/JUPYTER/index.html', '/home/jack/Desktop/SITE/lbry-react/DOCKER/index.html', '/home/jack/Desktop/SITE/lbry-react/PIL/index.html', '/home/jack/Desktop/SITE/lbry-react/JAVASCRIPTDOCS/index.html', '/home/jack/Desktop/SITE/lbry-react/PYTHON/index.html', '/home/jack/Desktop/SITE/lbry-react/PYTHON/template/index.html', '/home/jack/Desktop/SITE/lbry-react/PYTHON/docs.python.org/3/library/index.html', '/home/jack/Desktop/SITE/lbry-react/NODEJS/index.html']\n",
      "['/home/jack/Desktop/SITE/lbry-react/index.html', '/home/jack/Desktop/SITE/lbry-react/FFMPEG/index.html', '/home/jack/Desktop/SITE/lbry-react/NUMPY-CV2/index.html', '/home/jack/Desktop/SITE/lbry-react/C++/index.html', '/home/jack/Desktop/SITE/lbry-react/JUPYTER/index.html', '/home/jack/Desktop/SITE/lbry-react/DOCKER/index.html', '/home/jack/Desktop/SITE/lbry-react/PIL/index.html', '/home/jack/Desktop/SITE/lbry-react/JAVASCRIPTDOCS/index.html', '/home/jack/Desktop/SITE/lbry-react/PYTHON/index.html', '/home/jack/Desktop/SITE/lbry-react/PYTHON/template/index.html', '/home/jack/Desktop/SITE/lbry-react/PYTHON/docs.python.org/3/library/index.html', '/home/jack/Desktop/SITE/lbry-react/NODEJS/index.html', '/home/jack/Desktop/SITE/lbry-react/JAVASCRIPT/index.html']\n",
      "['/home/jack/Desktop/SITE/lbry-react/index.html', '/home/jack/Desktop/SITE/lbry-react/FFMPEG/index.html', '/home/jack/Desktop/SITE/lbry-react/NUMPY-CV2/index.html', '/home/jack/Desktop/SITE/lbry-react/C++/index.html', '/home/jack/Desktop/SITE/lbry-react/JUPYTER/index.html', '/home/jack/Desktop/SITE/lbry-react/DOCKER/index.html', '/home/jack/Desktop/SITE/lbry-react/PIL/index.html', '/home/jack/Desktop/SITE/lbry-react/JAVASCRIPTDOCS/index.html', '/home/jack/Desktop/SITE/lbry-react/PYTHON/index.html', '/home/jack/Desktop/SITE/lbry-react/PYTHON/template/index.html', '/home/jack/Desktop/SITE/lbry-react/PYTHON/docs.python.org/3/library/index.html', '/home/jack/Desktop/SITE/lbry-react/NODEJS/index.html', '/home/jack/Desktop/SITE/lbry-react/JAVASCRIPT/index.html', '/home/jack/Desktop/SITE/lbry-react/KEEP-NOTES/index.html']\n",
      "['/home/jack/Desktop/SITE/lbry-react/index.html', '/home/jack/Desktop/SITE/lbry-react/FFMPEG/index.html', '/home/jack/Desktop/SITE/lbry-react/NUMPY-CV2/index.html', '/home/jack/Desktop/SITE/lbry-react/C++/index.html', '/home/jack/Desktop/SITE/lbry-react/JUPYTER/index.html', '/home/jack/Desktop/SITE/lbry-react/DOCKER/index.html', '/home/jack/Desktop/SITE/lbry-react/PIL/index.html', '/home/jack/Desktop/SITE/lbry-react/JAVASCRIPTDOCS/index.html', '/home/jack/Desktop/SITE/lbry-react/PYTHON/index.html', '/home/jack/Desktop/SITE/lbry-react/PYTHON/template/index.html', '/home/jack/Desktop/SITE/lbry-react/PYTHON/docs.python.org/3/library/index.html', '/home/jack/Desktop/SITE/lbry-react/NODEJS/index.html', '/home/jack/Desktop/SITE/lbry-react/JAVASCRIPT/index.html', '/home/jack/Desktop/SITE/lbry-react/KEEP-NOTES/index.html', '/home/jack/Desktop/SITE/lbry-react/TWITTER/index.html']\n",
      "['/home/jack/Desktop/SITE/lbry-react/index.html', '/home/jack/Desktop/SITE/lbry-react/FFMPEG/index.html', '/home/jack/Desktop/SITE/lbry-react/NUMPY-CV2/index.html', '/home/jack/Desktop/SITE/lbry-react/C++/index.html', '/home/jack/Desktop/SITE/lbry-react/JUPYTER/index.html', '/home/jack/Desktop/SITE/lbry-react/DOCKER/index.html', '/home/jack/Desktop/SITE/lbry-react/PIL/index.html', '/home/jack/Desktop/SITE/lbry-react/JAVASCRIPTDOCS/index.html', '/home/jack/Desktop/SITE/lbry-react/PYTHON/index.html', '/home/jack/Desktop/SITE/lbry-react/PYTHON/template/index.html', '/home/jack/Desktop/SITE/lbry-react/PYTHON/docs.python.org/3/library/index.html', '/home/jack/Desktop/SITE/lbry-react/NODEJS/index.html', '/home/jack/Desktop/SITE/lbry-react/JAVASCRIPT/index.html', '/home/jack/Desktop/SITE/lbry-react/KEEP-NOTES/index.html', '/home/jack/Desktop/SITE/lbry-react/TWITTER/index.html', '/home/jack/Desktop/SITE/lbry-react/TKINTER/index.html']\n",
      "['/home/jack/Desktop/SITE/lbry-react/index.html', '/home/jack/Desktop/SITE/lbry-react/FFMPEG/index.html', '/home/jack/Desktop/SITE/lbry-react/NUMPY-CV2/index.html', '/home/jack/Desktop/SITE/lbry-react/C++/index.html', '/home/jack/Desktop/SITE/lbry-react/JUPYTER/index.html', '/home/jack/Desktop/SITE/lbry-react/DOCKER/index.html', '/home/jack/Desktop/SITE/lbry-react/PIL/index.html', '/home/jack/Desktop/SITE/lbry-react/JAVASCRIPTDOCS/index.html', '/home/jack/Desktop/SITE/lbry-react/PYTHON/index.html', '/home/jack/Desktop/SITE/lbry-react/PYTHON/template/index.html', '/home/jack/Desktop/SITE/lbry-react/PYTHON/docs.python.org/3/library/index.html', '/home/jack/Desktop/SITE/lbry-react/NODEJS/index.html', '/home/jack/Desktop/SITE/lbry-react/JAVASCRIPT/index.html', '/home/jack/Desktop/SITE/lbry-react/KEEP-NOTES/index.html', '/home/jack/Desktop/SITE/lbry-react/TWITTER/index.html', '/home/jack/Desktop/SITE/lbry-react/TKINTER/index.html', '/home/jack/Desktop/SITE/lbry-react/TKINTER/template/index.html']\n",
      "['/home/jack/Desktop/SITE/lbry-react/index.html', '/home/jack/Desktop/SITE/lbry-react/FFMPEG/index.html', '/home/jack/Desktop/SITE/lbry-react/NUMPY-CV2/index.html', '/home/jack/Desktop/SITE/lbry-react/C++/index.html', '/home/jack/Desktop/SITE/lbry-react/JUPYTER/index.html', '/home/jack/Desktop/SITE/lbry-react/DOCKER/index.html', '/home/jack/Desktop/SITE/lbry-react/PIL/index.html', '/home/jack/Desktop/SITE/lbry-react/JAVASCRIPTDOCS/index.html', '/home/jack/Desktop/SITE/lbry-react/PYTHON/index.html', '/home/jack/Desktop/SITE/lbry-react/PYTHON/template/index.html', '/home/jack/Desktop/SITE/lbry-react/PYTHON/docs.python.org/3/library/index.html', '/home/jack/Desktop/SITE/lbry-react/NODEJS/index.html', '/home/jack/Desktop/SITE/lbry-react/JAVASCRIPT/index.html', '/home/jack/Desktop/SITE/lbry-react/KEEP-NOTES/index.html', '/home/jack/Desktop/SITE/lbry-react/TWITTER/index.html', '/home/jack/Desktop/SITE/lbry-react/TKINTER/index.html', '/home/jack/Desktop/SITE/lbry-react/TKINTER/template/index.html', '/home/jack/Desktop/SITE/lbry-react/TKINTER/docs.python.org/3/library/index.html']\n",
      "['/home/jack/Desktop/SITE/lbry-react/index.html', '/home/jack/Desktop/SITE/lbry-react/FFMPEG/index.html', '/home/jack/Desktop/SITE/lbry-react/NUMPY-CV2/index.html', '/home/jack/Desktop/SITE/lbry-react/C++/index.html', '/home/jack/Desktop/SITE/lbry-react/JUPYTER/index.html', '/home/jack/Desktop/SITE/lbry-react/DOCKER/index.html', '/home/jack/Desktop/SITE/lbry-react/PIL/index.html', '/home/jack/Desktop/SITE/lbry-react/JAVASCRIPTDOCS/index.html', '/home/jack/Desktop/SITE/lbry-react/PYTHON/index.html', '/home/jack/Desktop/SITE/lbry-react/PYTHON/template/index.html', '/home/jack/Desktop/SITE/lbry-react/PYTHON/docs.python.org/3/library/index.html', '/home/jack/Desktop/SITE/lbry-react/NODEJS/index.html', '/home/jack/Desktop/SITE/lbry-react/JAVASCRIPT/index.html', '/home/jack/Desktop/SITE/lbry-react/KEEP-NOTES/index.html', '/home/jack/Desktop/SITE/lbry-react/TWITTER/index.html', '/home/jack/Desktop/SITE/lbry-react/TKINTER/index.html', '/home/jack/Desktop/SITE/lbry-react/TKINTER/template/index.html', '/home/jack/Desktop/SITE/lbry-react/TKINTER/docs.python.org/3/library/index.html', '/home/jack/Desktop/SITE/lbry-react/HTML-CSS/index.html']\n",
      "['/home/jack/Desktop/SITE/lbry-react/index.html', '/home/jack/Desktop/SITE/lbry-react/FFMPEG/index.html', '/home/jack/Desktop/SITE/lbry-react/NUMPY-CV2/index.html', '/home/jack/Desktop/SITE/lbry-react/C++/index.html', '/home/jack/Desktop/SITE/lbry-react/JUPYTER/index.html', '/home/jack/Desktop/SITE/lbry-react/DOCKER/index.html', '/home/jack/Desktop/SITE/lbry-react/PIL/index.html', '/home/jack/Desktop/SITE/lbry-react/JAVASCRIPTDOCS/index.html', '/home/jack/Desktop/SITE/lbry-react/PYTHON/index.html', '/home/jack/Desktop/SITE/lbry-react/PYTHON/template/index.html', '/home/jack/Desktop/SITE/lbry-react/PYTHON/docs.python.org/3/library/index.html', '/home/jack/Desktop/SITE/lbry-react/NODEJS/index.html', '/home/jack/Desktop/SITE/lbry-react/JAVASCRIPT/index.html', '/home/jack/Desktop/SITE/lbry-react/KEEP-NOTES/index.html', '/home/jack/Desktop/SITE/lbry-react/TWITTER/index.html', '/home/jack/Desktop/SITE/lbry-react/TKINTER/index.html', '/home/jack/Desktop/SITE/lbry-react/TKINTER/template/index.html', '/home/jack/Desktop/SITE/lbry-react/TKINTER/docs.python.org/3/library/index.html', '/home/jack/Desktop/SITE/lbry-react/HTML-CSS/index.html', '/home/jack/Desktop/SITE/lbry-react/VISUALCODE/index.html']\n",
      "['/home/jack/Desktop/SITE/lbry-react/index.html', '/home/jack/Desktop/SITE/lbry-react/FFMPEG/index.html', '/home/jack/Desktop/SITE/lbry-react/NUMPY-CV2/index.html', '/home/jack/Desktop/SITE/lbry-react/C++/index.html', '/home/jack/Desktop/SITE/lbry-react/JUPYTER/index.html', '/home/jack/Desktop/SITE/lbry-react/DOCKER/index.html', '/home/jack/Desktop/SITE/lbry-react/PIL/index.html', '/home/jack/Desktop/SITE/lbry-react/JAVASCRIPTDOCS/index.html', '/home/jack/Desktop/SITE/lbry-react/PYTHON/index.html', '/home/jack/Desktop/SITE/lbry-react/PYTHON/template/index.html', '/home/jack/Desktop/SITE/lbry-react/PYTHON/docs.python.org/3/library/index.html', '/home/jack/Desktop/SITE/lbry-react/NODEJS/index.html', '/home/jack/Desktop/SITE/lbry-react/JAVASCRIPT/index.html', '/home/jack/Desktop/SITE/lbry-react/KEEP-NOTES/index.html', '/home/jack/Desktop/SITE/lbry-react/TWITTER/index.html', '/home/jack/Desktop/SITE/lbry-react/TKINTER/index.html', '/home/jack/Desktop/SITE/lbry-react/TKINTER/template/index.html', '/home/jack/Desktop/SITE/lbry-react/TKINTER/docs.python.org/3/library/index.html', '/home/jack/Desktop/SITE/lbry-react/HTML-CSS/index.html', '/home/jack/Desktop/SITE/lbry-react/VISUALCODE/index.html', '/home/jack/Desktop/SITE/lbry-react/BASH/index.html']\n"
     ]
    }
   ],
   "source": [
    "import fnmatch\n",
    "from urllib.request import urlopen as uReq\n",
    "import os\n",
    "from bs4 import BeautifulSoup as soup\n",
    "from bs4 import Doctype\n",
    "\n",
    "files = ['index.html']\n",
    "matches = []\n",
    "\n",
    "for root, dirnames, filenames in os.walk(\"/home/jack/Desktop/SITE\"):\n",
    "    for extensions in files:\n",
    "        for filename in fnmatch.filter(filenames, extensions):\n",
    "            matches.append(os.path.join(root, filename))\n",
    "            print(matches)"
   ]
  },
  {
   "cell_type": "code",
   "execution_count": 14,
   "id": "3dd2feeb",
   "metadata": {},
   "outputs": [],
   "source": [
    "import glob, os\n",
    "os.chdir(\"/home/jack/Desktop/SITE\")\n",
    "for file in glob.glob(\"index.html\"):\n",
    "    print(file)"
   ]
  },
  {
   "cell_type": "code",
   "execution_count": 12,
   "id": "af6df463",
   "metadata": {},
   "outputs": [
    {
     "name": "stdout",
     "output_type": "stream",
     "text": [
      "/home/jack/Desktop/SITE/lbry-react/index.html\n",
      "/home/jack/Desktop/SITE/lbry-react/FFMPEG/index.html\n",
      "/home/jack/Desktop/SITE/lbry-react/NUMPY-CV2/index.html\n",
      "/home/jack/Desktop/SITE/lbry-react/C++/index.html\n",
      "/home/jack/Desktop/SITE/lbry-react/JUPYTER/index.html\n",
      "/home/jack/Desktop/SITE/lbry-react/DOCKER/index.html\n",
      "/home/jack/Desktop/SITE/lbry-react/PIL/index.html\n",
      "/home/jack/Desktop/SITE/lbry-react/JAVASCRIPTDOCS/index.html\n",
      "/home/jack/Desktop/SITE/lbry-react/PYTHON/index.html\n",
      "/home/jack/Desktop/SITE/lbry-react/PYTHON/template/index.html\n",
      "/home/jack/Desktop/SITE/lbry-react/PYTHON/docs.python.org/3/library/index.html\n",
      "/home/jack/Desktop/SITE/lbry-react/NODEJS/index.html\n",
      "/home/jack/Desktop/SITE/lbry-react/JAVASCRIPT/index.html\n",
      "/home/jack/Desktop/SITE/lbry-react/KEEP-NOTES/index.html\n",
      "/home/jack/Desktop/SITE/lbry-react/TWITTER/index.html\n",
      "/home/jack/Desktop/SITE/lbry-react/TKINTER/index.html\n",
      "/home/jack/Desktop/SITE/lbry-react/TKINTER/template/index.html\n",
      "/home/jack/Desktop/SITE/lbry-react/TKINTER/docs.python.org/3/library/index.html\n",
      "/home/jack/Desktop/SITE/lbry-react/HTML-CSS/index.html\n",
      "/home/jack/Desktop/SITE/lbry-react/VISUALCODE/index.html\n",
      "/home/jack/Desktop/SITE/lbry-react/BASH/index.html\n"
     ]
    }
   ],
   "source": [
    "for files in matches:\n",
    "    print(files)"
   ]
  },
  {
   "cell_type": "code",
   "execution_count": 36,
   "id": "6c72bfcb",
   "metadata": {},
   "outputs": [],
   "source": [
    "FILZ = [] \n",
    "for file in matches:\n",
    "    content = open(file).readlines()\n",
    "  \n",
    "    for lines in content:\n",
    "        if \"wrapper\" in lines and \"docs\" not in file:\n",
    "            FILZ.append(file)"
   ]
  },
  {
   "cell_type": "code",
   "execution_count": 4,
   "id": "307be461",
   "metadata": {},
   "outputs": [
    {
     "name": "stdout",
     "output_type": "stream",
     "text": [
      "Filename: /home/jack/Desktop/SITE/lbry-react/index.html\n",
      "Doctype: html\n",
      "Filename: /home/jack/Desktop/SITE/lbry-react/FFMPEG/index.html\n",
      "Doctype: html\n",
      "Filename: /home/jack/Desktop/SITE/lbry-react/NUMPY-CV2/index.html\n",
      "Doctype: html\n",
      "Filename: /home/jack/Desktop/SITE/lbry-react/C++/index.html\n",
      "Doctype: html\n",
      "Filename: /home/jack/Desktop/SITE/lbry-react/JUPYTER/index.html\n",
      "Doctype: html\n",
      "Filename: /home/jack/Desktop/SITE/lbry-react/DOCKER/index.html\n",
      "Doctype: html\n",
      "Filename: /home/jack/Desktop/SITE/lbry-react/DOCKER/Xindex.html\n",
      "Doctype: html\n",
      "Filename: /home/jack/Desktop/SITE/lbry-react/PIL/index.html\n",
      "Doctype: html\n",
      "Filename: /home/jack/Desktop/SITE/lbry-react/JAVASCRIPTDOCS/index.html\n",
      "Doctype: html\n",
      "Filename: /home/jack/Desktop/SITE/lbry-react/PYTHON/index.html\n",
      "Doctype: html\n",
      "Filename: /home/jack/Desktop/SITE/lbry-react/PYTHON/template/index.html\n",
      "Doctype: html PUBLIC \"-//W3C//DTD XHTML 1.1//EN\" \"http://www.w3.org/TR/xhtml11/DTD/xhtml11.dtd\"\n",
      "Filename: /home/jack/Desktop/SITE/lbry-react/PYTHON/docs.python.org/3/library/index.html\n",
      "Doctype: html\n",
      "Filename: /home/jack/Desktop/SITE/lbry-react/PYTHON/docs.python.org/3/library/asyncio-api-index.html\n",
      "Doctype: html\n",
      "Filename: /home/jack/Desktop/SITE/lbry-react/PYTHON/docs.python.org/3/library/asyncio-llapi-index.html\n",
      "Doctype: html\n",
      "Filename: /home/jack/Desktop/SITE/lbry-react/NODEJS/index.html\n",
      "Doctype: html\n",
      "Filename: /home/jack/Desktop/SITE/lbry-react/JAVASCRIPT/index.html\n",
      "Filename: /home/jack/Desktop/SITE/lbry-react/KEEP-NOTES/index.html\n",
      "Doctype: html\n",
      "Filename: /home/jack/Desktop/SITE/lbry-react/TWITTER/index.html\n",
      "Doctype: html\n",
      "Filename: /home/jack/Desktop/SITE/lbry-react/TKINTER/index.html\n",
      "Doctype: html\n",
      "Filename: /home/jack/Desktop/SITE/lbry-react/TKINTER/template/index.html\n",
      "Doctype: html PUBLIC \"-//W3C//DTD XHTML 1.1//EN\" \"http://www.w3.org/TR/xhtml11/DTD/xhtml11.dtd\"\n",
      "Filename: /home/jack/Desktop/SITE/lbry-react/TKINTER/docs.python.org/3/library/index.html\n",
      "Doctype: html\n",
      "Filename: /home/jack/Desktop/SITE/lbry-react/TKINTER/docs.python.org/3/library/asyncio-api-index.html\n",
      "Doctype: html\n",
      "Filename: /home/jack/Desktop/SITE/lbry-react/TKINTER/docs.python.org/3/library/asyncio-llapi-index.html\n",
      "Doctype: html\n",
      "Filename: /home/jack/Desktop/SITE/lbry-react/HTML-CSS/index.html\n",
      "Doctype: html\n",
      "Filename: /home/jack/Desktop/SITE/lbry-react/VISUALCODE/index.html\n",
      "Doctype: html\n",
      "Filename: /home/jack/Desktop/SITE/lbry-react/BASH/index.html\n",
      "Doctype: html\n"
     ]
    }
   ],
   "source": [
    "import os\n",
    "from bs4 import BeautifulSoup, Doctype\n",
    "\n",
    "directory = '/home/jack/Desktop/SITE'\n",
    "for root, dirnames, filenames in os.walk(directory):\n",
    "    for filename in filenames:\n",
    "        if filename.endswith('index.html'):\n",
    "            fname = os.path.join(root, filename)\n",
    "            print('Filename: {}'.format(fname))\n",
    "            with open(fname) as handle:\n",
    "                soup = BeautifulSoup(handle.read(), 'html.parser')\n",
    "                for item in soup.contents:\n",
    "                    if isinstance(item, Doctype):\n",
    "                        print('Doctype: {}'.format(item))\n",
    "                        break\n"
   ]
  },
  {
   "cell_type": "code",
   "execution_count": 38,
   "id": "dbc10f63",
   "metadata": {},
   "outputs": [
    {
     "name": "stdout",
     "output_type": "stream",
     "text": [
      "['FFMPEG', 'NUMPY-CV2', 'index.html', 'C++', 'JUPYTER', 'README.md', 'DOCKER', '.git', 'PIL', 'cs', 'JAVASCRIPTDOCS', 'PYTHON', 'NODEJS', 'JAVASCRIPT', 'KEEP-NOTES', 'TWITTER', 'TKINTER', 'HTML-CSS', 'VISUALCODE', 'BASH']\n"
     ]
    }
   ],
   "source": [
    "print(os.listdir(\"lbry-react\"))"
   ]
  },
  {
   "cell_type": "code",
   "execution_count": 54,
   "id": "caaa9793",
   "metadata": {},
   "outputs": [
    {
     "name": "stdout",
     "output_type": "stream",
     "text": [
      "['/home/jack/Desktop/SITE/lbry-react/FFMPEG', '/home/jack/Desktop/SITE/lbry-react/NUMPY-CV2', '/home/jack/Desktop/SITE/lbry-react/C++', '/home/jack/Desktop/SITE/lbry-react/JUPYTER', '/home/jack/Desktop/SITE/lbry-react/DOCKER', '/home/jack/Desktop/SITE/lbry-react/.git', '/home/jack/Desktop/SITE/lbry-react/PIL', '/home/jack/Desktop/SITE/lbry-react/cs', '/home/jack/Desktop/SITE/lbry-react/JAVASCRIPTDOCS', '/home/jack/Desktop/SITE/lbry-react/PYTHON', '/home/jack/Desktop/SITE/lbry-react/NODEJS', '/home/jack/Desktop/SITE/lbry-react/JAVASCRIPT', '/home/jack/Desktop/SITE/lbry-react/KEEP-NOTES', '/home/jack/Desktop/SITE/lbry-react/TWITTER', '/home/jack/Desktop/SITE/lbry-react/TKINTER', '/home/jack/Desktop/SITE/lbry-react/HTML-CSS', '/home/jack/Desktop/SITE/lbry-react/VISUALCODE', '/home/jack/Desktop/SITE/lbry-react/BASH']\n"
     ]
    }
   ],
   "source": [
    "subfolders = [ f.path for f in os.scandir(\"/home/jack/Desktop/SITE/lbry-react\") if f.is_dir() ]\n",
    "print (subfolders)"
   ]
  },
  {
   "cell_type": "code",
   "execution_count": 49,
   "id": "b0b34e29",
   "metadata": {},
   "outputs": [
    {
     "data": {
      "text/plain": [
       "'/home/jack/Desktop/SITE'"
      ]
     },
     "execution_count": 49,
     "metadata": {},
     "output_type": "execute_result"
    }
   ],
   "source": [
    "Path = os.path.abspath(\"/home/jack/Desktop/SITE\")\n",
    "Path"
   ]
  },
  {
   "cell_type": "code",
   "execution_count": 40,
   "id": "68051c91",
   "metadata": {},
   "outputs": [
    {
     "name": "stdout",
     "output_type": "stream",
     "text": [
      "/home/jack/Desktop/SITE\r\n"
     ]
    }
   ],
   "source": [
    "!pwd"
   ]
  },
  {
   "cell_type": "code",
   "execution_count": 42,
   "id": "524fe262",
   "metadata": {},
   "outputs": [
    {
     "name": "stdout",
     "output_type": "stream",
     "text": [
      "['FFMPEG', 'NUMPY-CV2', 'index.html', 'C++', 'JUPYTER', 'README.md', 'DOCKER', '.git', 'PIL', 'cs', 'JAVASCRIPTDOCS', 'PYTHON', 'NODEJS', 'JAVASCRIPT', 'KEEP-NOTES', 'TWITTER', 'TKINTER', 'HTML-CSS', 'VISUALCODE', 'BASH']\n"
     ]
    }
   ],
   "source": [
    "print(os.listdir('/home/jack/Desktop/SITE/lbry-react'))"
   ]
  },
  {
   "cell_type": "code",
   "execution_count": null,
   "id": "4aa3aa68",
   "metadata": {},
   "outputs": [],
   "source": []
  }
 ],
 "metadata": {
  "kernelspec": {
   "display_name": "Python 3 (ipykernel)",
   "language": "python",
   "name": "python3"
  },
  "language_info": {
   "codemirror_mode": {
    "name": "ipython",
    "version": 3
   },
   "file_extension": ".py",
   "mimetype": "text/x-python",
   "name": "python",
   "nbconvert_exporter": "python",
   "pygments_lexer": "ipython3",
   "version": "3.9.12"
  }
 },
 "nbformat": 4,
 "nbformat_minor": 5
}
