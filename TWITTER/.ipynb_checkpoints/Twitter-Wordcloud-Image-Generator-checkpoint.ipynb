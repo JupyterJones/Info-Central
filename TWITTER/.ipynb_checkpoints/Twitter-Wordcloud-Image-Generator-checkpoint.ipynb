{
 "cells": [
  {
   "cell_type": "markdown",
   "metadata": {},
   "source": [
    "# Making a word cloud image for Twitter"
   ]
  },
  {
   "cell_type": "code",
   "execution_count": null,
   "metadata": {
    "collapsed": true
   },
   "outputs": [],
   "source": [
    "!pip freeze\n",
    "# I used my installed modules as the word cloud I executed 'pip' freeze\n",
    "# then copied the resulting words, minus the version to 'wordcloud.txt'"
   ]
  },
  {
   "cell_type": "markdown",
   "metadata": {},
   "source": [
    "## Create a file as a source for the random words called ' wordcloud.txt '"
   ]
  },
  {
   "cell_type": "code",
   "execution_count": 6,
   "metadata": {},
   "outputs": [
    {
     "name": "stdout",
     "output_type": "stream",
     "text": [
      "Overwriting wordcloud.txt\n"
     ]
    }
   ],
   "source": [
    "%%writefile wordcloud.txt\n",
    "aiml\n",
    "alabaster\n",
    "altair\n",
    "anaconda_client\n",
    "anaconda_project\n",
    "appdirs\n",
    "apptools\n",
    "argcomplete\n",
    "arrow\n",
    "astroid\n",
    "astropy\n",
    "attrs\n",
    "Automat\n",
    "Babel\n",
    "backports_abc\n",
    "backports.functools-lru-cache\n",
    "backports.shutil-get-terminal-size\n",
    "backports.ssl-match-hostname\n",
    "BeautifulSoup\n",
    "beautifulsoup4\n",
    "bitarray\n",
    "blaze\n",
    "bleach\n",
    "bokeh\n",
    "boto\n",
    "Bottleneck\n",
    "branca\n",
    "bs4\n",
    "cdecimal\n",
    "certifi\n",
    "cffi\n",
    "chardet\n",
    "ChatterBot\n",
    "chatterbot-corpus\n",
    "chest\n",
    "click\n",
    "get-mak-eurl\n",
    "cloudpickle\n",
    "clyent\n",
    "colorama\n",
    "coloredlogs\n",
    "conda\n",
    "configobj\n",
    "configparser\n",
    "constantly\n",
    "contextlib2\n",
    "cov-core\n",
    "coverage\n",
    "cryptography\n",
    "cssselect\n",
    "cycler\n",
    "Cython\n",
    "cytoolz\n",
    "dask\n",
    "data\n",
    "datashape\n",
    "decorator\n",
    "dill\n",
    "dlib\n",
    "docopt\n",
    "docutils\n",
    "dot2tex\n",
    "e\n",
    "entrypoints\n",
    "enum34\n",
    "et-xmlfile\n",
    "facemorpher\n",
    "fastcache\n",
    "Flask\n",
    "Flask-Admin\n",
    "Flask-Cors\n",
    "Flask-GraphQL\n",
    "Flask-WTF\n",
    "flickr-api\n",
    "flickrapi\n",
    "folium\n",
    "funcsigs\n",
    "functions\n",
    "functools32\n",
    "future\n",
    "futures\n",
    "gevent\n",
    "gitter\n",
    "graphene\n",
    "graphene\n",
    "sqlalchemy\n",
    "graphql-core\n",
    "graphql-relay\n",
    "graphviz\n",
    "greenlet\n",
    "grin\n",
    "h5py\n",
    "HeapDict\n",
    "html2text\n",
    "html5lib\n",
    "httplib2\n",
    "humanfriendly\n",
    "hyperlink\n",
    "icrawler\n",
    "idna\n",
    "ijson\n",
    "imageio\n",
    "imagesize\n",
    "imutils\n",
    "incremental\n",
    "inflect\n",
    "ipaddress\n",
    "ipykernel\n",
    "ipyleaflet\n",
    "ipython\n",
    "ipython-genutils\n",
    "ipyvolume\n",
    "ipywidgets\n",
    "irc\n",
    "iso8601\n",
    "isort\n",
    "itsdangerous\n",
    "jaraco.classes\n",
    "jaraco.collections\n",
    "jaraco.functools\n",
    "jaraco.itertools\n",
    "jaraco.logging\n",
    "jaraco.stream\n",
    "jaraco.text\n",
    "jdcal\n",
    "jedi\n",
    "Jinja2\n",
    "JSON-log-formatter\n",
    "json-tricks\n",
    "jsondatabase\n",
    "jsonschema\n",
    "jupyter-client\n",
    "jupyter-console\n",
    "jupyter-contrib-core\n",
    "jupyter-contrib-nbextensions\n",
    "jupyter-core\n",
    "jupyter-highlight-selected-word==0.0.11jupyter-latex-envs\n",
    "jupyter-nbextensions-configurator\n",
    "jupyterlab\n",
    "jupyterlab-launcher\n",
    "labellio-cli\n",
    "latex\n",
    "lazy-object-proxy\n",
    "leveldb\n",
    "lightning-python\n",
    "llvmlite\n",
    "locket\n",
    "lxml\n",
    "mahotas\n",
    "Markdown\n",
    "markovbot\n",
    "markovify\n",
    "MarkupSafe\n",
    "matplotlib\n",
    "metakernel\n",
    "meteor-ejson\n",
    "mistune\n",
    "mock\n",
    "mongoengine\n",
    "monotonic\n",
    "more-itertools\n",
    "mpld3\n",
    "mpmath\n",
    "msnoise\n",
    "msnoise-tomo\n",
    "multipledispatch\n",
    "MySQL-python\n",
    "nbconvert\n",
    "nbformat\n",
    "networkx\n",
    "nltk\n",
    "nodebox-opengl\n",
    "nose\n",
    "nose-cov\n",
    "notebook\n",
    "numba\n",
    "numexpr\n",
    "numpy\n",
    "numpydoc\n",
    "oauth\n",
    "oauthlib\n",
    "obspy\n",
    "odo\n",
    "olefile\n",
    "openpyxl\n",
    "packaging\n",
    "pandas\n",
    "pandocfilters\n",
    "parsel\n",
    "partd\n",
    "pathlib2\n",
    "patsy\n",
    "pbr\n",
    "pep8\n",
    "pexpect\n",
    "pickleshare\n",
    "Pillow\n",
    "pkginfo\n",
    "plotly\n",
    "ply\n",
    "processing\n",
    "progressbar\n",
    "promise\n",
    "prompt-toolkit\n",
    "protobuf\n",
    "psutil\n",
    "PsychoPy\n",
    "psycopg2\n",
    "ptyprocess\n",
    "py\n",
    "py3-protobuffers\n",
    "PyAIML\n",
    "pyamg\n",
    "pyasn1\n",
    "pyasn1-modules\n",
    "pycairo\n",
    "pychecker\n",
    "pycosat\n",
    "pycparser\n",
    "pycrypto\n",
    "pycurl\n",
    "PyDispatcher\n",
    "pydot\n",
    "pyee\n",
    "pyface\n",
    "pyflakes\n",
    "pygame\n",
    "pyglet\n",
    "Pygments\n",
    "PyInstaller\n",
    "pylint\n",
    "pymongo\n",
    "pymorph\n",
    "pymunk\n",
    "PyMySQL\n",
    "PyOpenGL\n",
    "PyOpenGL-accelerate\n",
    "pyOpenSSL\n",
    "pyparsing\n",
    "pytest\n",
    "python-coveralls\n",
    "python-dateutil\n",
    "python-ddp\n",
    "python-meteor\n",
    "python-resize-image\n",
    "python-twitter\n",
    "pythreejs\n",
    "pyttsx\n",
    "pytz\n",
    "PyWavelets\n",
    "PyYAML\n",
    "pyzmq\n",
    "QtAwesome\n",
    "QtPy\n",
    "queuelib\n",
    "redis\n",
    "requests\n",
    "requests-oauthlib\n",
    "requests-toolbelt\n",
    "requirements\n",
    "rope\n",
    "scandir\n",
    "scikit-image\n",
    "scikit-learn\n",
    "scipy\n",
    "Scrapy\n",
    "seaborn\n",
    "selectivesearch\n",
    "service-identity\n",
    "Shapely\n",
    "shutilwhich\n",
    "simplegeneric\n",
    "singledispatch\n",
    "six\n",
    "skulpt-python\n",
    "snowballstemmer\n",
    "sockjs-tornado\n",
    "Sphinx\n",
    "sphinx-rtd-theme\n",
    "SQLAlchemy\n",
    "statsmodels\n",
    "subprocess32\n",
    "surrealism\n",
    "SVGFig\n",
    "svgwrite\n",
    "sympy\n",
    "tables\n",
    "tempdir\n",
    "tempora\n",
    "tensorflow\n",
    "termenu\n",
    "terminado\n",
    "testpath\n",
    "textblob\n",
    "times\n",
    "toolz\n",
    "tornado\n",
    "tqdm\n",
    "traitlets\n",
    "traits\n",
    "traitsui\n",
    "traittypes\n",
    "tweepy\n",
    "twine\n",
    "Twisted\n",
    "TwitterAPI\n",
    "typing\n",
    "unicodecsv\n",
    "Unidecode\n",
    "vega\n",
    "virtualenv\n",
    "vpnotebook\n",
    "vpython\n",
    "vtk\n",
    "w3lib\n",
    "Wand\n",
    "wcwidth\n",
    "webcolors\n",
    "webencodings\n",
    "Werkzeug\n",
    "widgetsnbextension\n",
    "wrapt\n",
    "ws4py\n",
    "WTForms\n",
    "wxPython\n",
    "xerox\n",
    "xlrd\n",
    "XlsxWriter\n",
    "xlwt\n",
    "zope.interface\n",
    "\n",
    "#%%writefile twitterpost.py"
   ]
  },
  {
   "cell_type": "markdown",
   "metadata": {
    "collapsed": true
   },
   "source": [
    "# Testing a random loop"
   ]
  },
  {
   "cell_type": "markdown",
   "metadata": {
    "collapsed": true
   },
   "source": [
    "# Testing script to print one random word from wordcloud.txt"
   ]
  },
  {
   "cell_type": "code",
   "execution_count": 15,
   "metadata": {},
   "outputs": [
    {
     "name": "stdout",
     "output_type": "stream",
     "text": [
      "scandir\n"
     ]
    }
   ],
   "source": [
    "import random\n",
    "\n",
    "def generate_the_word(infile):\n",
    "    with open(infile) as f:\n",
    "        contents_of_file = f.read()\n",
    "    lines = contents_of_file.splitlines()\n",
    "    line_number = random.randrange(0, len(lines))\n",
    "    return lines[line_number]\n",
    "wrd = (generate_the_word(\"wordcloud.txt\"))\n",
    "print wrd\n"
   ]
  },
  {
   "cell_type": "code",
   "execution_count": 14,
   "metadata": {},
   "outputs": [
    {
     "name": "stdout",
     "output_type": "stream",
     "text": [
      "six\n",
      "subprocess32\n",
      "traittypes\n",
      "parsel\n",
      "nodebox-opengl\n",
      "pyasn1-modules\n",
      "metakernel\n",
      "QtAwesome\n",
      "toolz\n",
      "leveldb\n"
     ]
    }
   ],
   "source": [
    "import random\n",
    "count = 0\n",
    "while count< 10:\n",
    "    def generate_the_word(infile):\n",
    "        with open(infile) as f:\n",
    "            contents_of_file = f.read()\n",
    "        lines = contents_of_file.splitlines()\n",
    "        line_number = random.randrange(0, len(lines))\n",
    "        return lines[line_number]\n",
    "    wrd = (generate_the_word(\"wordcloud.txt\"))\n",
    "    count = count+1\n",
    "    print wrd"
   ]
  },
  {
   "cell_type": "markdown",
   "metadata": {},
   "source": [
    "### List your available images"
   ]
  },
  {
   "cell_type": "code",
   "execution_count": 11,
   "metadata": {},
   "outputs": [
    {
     "name": "stdout",
     "output_type": "stream",
     "text": [
      "0001twitter.jpg  0004twitter.jpg  0007twitter.jpg  0010twitter.jpg\r\n",
      "0002twitter.jpg  0005twitter.jpg  0008twitter.jpg\r\n",
      "0003twitter.jpg  0006twitter.jpg  0009twitter.jpg\r\n"
     ]
    }
   ],
   "source": [
    "!ls images"
   ]
  },
  {
   "cell_type": "markdown",
   "metadata": {},
   "source": [
    "### Look at an image"
   ]
  },
  {
   "cell_type": "code",
   "execution_count": 35,
   "metadata": {
    "collapsed": true
   },
   "outputs": [],
   "source": [
    "!showme images/0003twitter.jpg"
   ]
  },
  {
   "cell_type": "raw",
   "metadata": {},
   "source": [
    "In the file below:\n",
    "\n",
    "enter your text\n",
    "STR = (\"This is the text string that will be posted to twitter #python #hashtagmore\")\n",
    "enter the path and image file example:\n",
    "PATH = \"images/0003twitter.jpg\""
   ]
  },
  {
   "cell_type": "markdown",
   "metadata": {},
   "source": [
    "# NOTHING Automated\n",
    "### You can post an image file of your choice with text that you enter."
   ]
  },
  {
   "cell_type": "code",
   "execution_count": null,
   "metadata": {
    "collapsed": true
   },
   "outputs": [],
   "source": [
    "#%%writefile twitterpost.py\n",
    "#!/anaconda2/bin/python\n",
    "import os\n",
    "import random\n",
    "import sys\n",
    "import markovify\n",
    "import twython\n",
    "from twython import Twython\n",
    "import time\n",
    "#removed keys for privacy reasons\n",
    "CONSUMER_KEY = 'XXXXXXXXXXXXXXXX'\n",
    "CONSUMER_SECRET = 'XXXXXXXXXXXXXXXX'\n",
    "ACCESS_KEY = 'XXXXXXXXXXXXXXXX'\n",
    "ACCESS_SECRET = 'XXXXXXXXXXXXXXXX'\n",
    "\n",
    "twitter = Twython(CONSUMER_KEY, CONSUMER_SECRET, ACCESS_KEY, ACCESS_SECRET)\n",
    "\n",
    "\"\"\"\n",
    "#USE THIS TO GENERATE RANDOM TEXT FROM THE POSTING.txt file\n",
    "f = open(\"POSTING.txt\")\n",
    "text = f.read()\n",
    "# Build the model.\n",
    "text_model = markovify.Text(text)\n",
    "# Print randomly-generated sentences of no more than 140 characters\n",
    "#STR = (text_model.make_short_sentence(140))\n",
    "\"\"\"\n",
    "\n",
    "STR = (\"This is the text string that will be posted to twitter #python #hashtagmore\")\n",
    "#PATH = your path and image file\n",
    "PATH = \"images/0003twitter.jpg\"\n",
    "# use below to post a random image froma directory\n",
    "#photo = open('images/'+file_list[rnd]+'.jpg','rb')\n",
    "photo = open(PATH,'rb')\n",
    "response = twitter.upload_media(media=photo)\n",
    "twitter.update_status(status=STR, media_ids=[response['media_id']])\n"
   ]
  },
  {
   "cell_type": "markdown",
   "metadata": {},
   "source": [
    "!ls images/NewFolder/"
   ]
  },
  {
   "cell_type": "code",
   "execution_count": null,
   "metadata": {
    "collapsed": true
   },
   "outputs": [],
   "source": [
    "To get an idea where you text will be printed on the picture"
   ]
  },
  {
   "cell_type": "code",
   "execution_count": 18,
   "metadata": {},
   "outputs": [
    {
     "name": "stdout",
     "output_type": "stream",
     "text": [
      "the image size is : 543 543 the text will be printed at : 60 190\n"
     ]
    }
   ],
   "source": [
    "from PIL import Image, ImageDraw, ImageFont\n",
    "import random\n",
    "from random import randint\n",
    "base = Image.open(\"images/0003twitter.jpg\").convert('RGBA')\n",
    "w, h = base.size\n",
    "Lw = randint(0,w-50)\n",
    "Lh = randint(0,h-30)\n",
    "print \"the image size is :\", w, h,\"the text will be printed at :\" ,Lw, Lh"
   ]
  },
  {
   "cell_type": "markdown",
   "metadata": {
    "collapsed": true
   },
   "source": [
    "# Generating a Wordcloud background"
   ]
  },
  {
   "cell_type": "code",
   "execution_count": 21,
   "metadata": {
    "collapsed": true
   },
   "outputs": [],
   "source": [
    "from PIL import Image, ImageDraw, ImageFont\n",
    "import random\n",
    "from random import randint\n",
    "# get an image\n",
    "count = 1\n",
    "\n",
    "# To use an existing image comment out \n",
    "#     start = Image.new('RGB', base.size, (255,200,255))\n",
    "\n",
    "# and uncomment the next start variable below\n",
    "#start = Image.open('images/NewFolder/textback.jpg').convert('RGBA')\n",
    "\n",
    "#Create a blank image\n",
    "start = Image.new('RGB', base.size, (255,200,255))\n",
    "start.save('images/StartBlank.jpg')\n"
   ]
  },
  {
   "cell_type": "code",
   "execution_count": null,
   "metadata": {
    "collapsed": true
   },
   "outputs": [],
   "source": [
    "Notice what is done. An image existing or blank is opened and saved as \n",
    "a TEMP.jpg. That TEMP.jpg image that will be cycled and printed on in the loop."
   ]
  },
  {
   "cell_type": "code",
   "execution_count": 30,
   "metadata": {},
   "outputs": [
    {
     "name": "stdout",
     "output_type": "stream",
     "text": [
      "20170818120121.jpg\n"
     ]
    }
   ],
   "source": [
    "import datetime\n",
    "filename = datetime.datetime.now().strftime(\"%Y%m%d%H%M%S.jpg\")\n",
    "print filename"
   ]
  },
  {
   "cell_type": "markdown",
   "metadata": {},
   "source": [
    "# IMPORTANT \n",
    "Do not forget to enter the path to your fonts and use a style you have available"
   ]
  },
  {
   "cell_type": "code",
   "execution_count": 32,
   "metadata": {},
   "outputs": [
    {
     "name": "stdout",
     "output_type": "stream",
     "text": [
      "images/20170818120537.jpg\n"
     ]
    }
   ],
   "source": [
    "from PIL import Image, ImageDraw, ImageFont\n",
    "import random\n",
    "import datetime\n",
    "from random import randint\n",
    "# get an image\n",
    "count = 1\n",
    "start2 = Image.open('images/StartBlank.jpg').convert('RGBA')\n",
    "start2.save('images/TEMP.jpg')\n",
    "while count < 256 :\n",
    "    base = Image.open('images/TEMP.jpg').convert('RGBA')\n",
    " \n",
    "    #8 5 4 6 3 2\n",
    "    # make a blank image for the text, initialized to transparent text color\n",
    "    txt = Image.new('RGBA', base.size, (255,255,255,0))\n",
    "    # get a font\n",
    "    #generate a random size for the font\n",
    "    int_n = int(count*.2)\n",
    "    Fsize = randint(15,100-int_n)\n",
    "    fnt = ImageFont.truetype(\"/home/jack/.fonts/Exo-Black.ttf\", Fsize)\n",
    "    # get a drawing context\n",
    "    d = ImageDraw.Draw(txt)\n",
    "\n",
    "    width, height = base.size\n",
    "\n",
    "\n",
    "    def generate_the_word(infile):\n",
    "        with open(infile) as f:\n",
    "            contents_of_file = f.read()\n",
    "        lines = contents_of_file.splitlines()\n",
    "        line_number = random.randrange(0, len(lines))\n",
    "        return lines[line_number]\n",
    "    textin = (generate_the_word(\"wordcloud.txt\"))\n",
    "\n",
    "    # calculate the x,y coordinates of the text\n",
    "    w, h = base.size\n",
    "    Lw = randint(-150,w-50)\n",
    "    Lh = randint(-50,h-30)\n",
    "    #textin = \"The TwitterBot Project\" \n",
    "    #generate random color and opacity\n",
    "    r = randint(0,256)\n",
    "    g = randint(0,256)\n",
    "    b = randint(0,256)\n",
    "    a = randint(0,count)\n",
    "    d.text((Lw,Lh), textin, font=fnt, fill=(r,g,b,a))\n",
    "\n",
    "    out = Image.alpha_composite(base, txt)\n",
    "    out.save(\"images/TEMP.jpg\", \"JPEG\")\n",
    "    count=count+1\n",
    "       \n",
    "filename = datetime.datetime.now().strftime(\"images/%Y%m%d%H%M%S.jpg\")\n",
    "out.save(filename, \"JPEG\")\n",
    "print filename\n",
    "out.show()\n",
    "# that file was saved in two locations one as images/TEMP.jpg\n",
    "# another as the Date/time.jpg displayed below"
   ]
  },
  {
   "cell_type": "code",
   "execution_count": 34,
   "metadata": {
    "collapsed": true
   },
   "outputs": [],
   "source": [
    "#verify it with the viewer of your choce\n",
    "!showme images/20170818120537.jpg"
   ]
  },
  {
   "cell_type": "markdown",
   "metadata": {},
   "source": [
    "# Works Good"
   ]
  },
  {
   "cell_type": "markdown",
   "metadata": {},
   "source": [
    "# Generate Cloud image and sign 'SuperDude'"
   ]
  },
  {
   "cell_type": "markdown",
   "metadata": {},
   "source": [
    "<b>NOTICE</b><br />\n",
    "uncomment the bottom two lines for a unique filename<br />\n",
    "otherwise each time this cell is executed it will overwrite the image"
   ]
  },
  {
   "cell_type": "code",
   "execution_count": 40,
   "metadata": {
    "collapsed": true
   },
   "outputs": [],
   "source": [
    "from PIL import Image, ImageDraw, ImageFont\n",
    "import random\n",
    "from random import randint\n",
    "# get an image\n",
    "count = 1\n",
    "# Start with a prepared background\n",
    "start = Image.open('images/0003twitter.jpg').convert('RGBA')\n",
    "\n",
    "#save it as a temporary file to cycle this will place 256 ( count <256: ) words on the picture\n",
    "start.save('images/textbacktmp.jpg')\n",
    "while count < 256 :\n",
    "    base = Image.open('images/textbacktmp.jpg').convert('RGBA')\n",
    " \n",
    "    #8 5 4 6 3 2\n",
    "    # make a blank image for the text, initialized to transparent text color\n",
    "    txt = Image.new('RGBA', base.size, (255,255,255,0))\n",
    "    # get a font\n",
    "    #generate a random size for the font\n",
    "    int_n = int(count*.2)\n",
    "    Fsize = randint(15,100-int_n)\n",
    "    fnt = ImageFont.truetype(\"/home/jack/.fonts/Exo-Black.ttf\", Fsize)\n",
    "    # get a drawing context\n",
    "    d = ImageDraw.Draw(txt)\n",
    "\n",
    "    width, height = base.size\n",
    "\n",
    "\n",
    "    def generate_the_word(infile):\n",
    "        with open(infile) as f:\n",
    "            contents_of_file = f.read()\n",
    "        lines = contents_of_file.splitlines()\n",
    "        line_number = random.randrange(0, len(lines))\n",
    "        return lines[line_number]\n",
    "    textin = (generate_the_word(\"wordcloud.txt\"))\n",
    "\n",
    "    # calculate the x,y coordinates of the text\n",
    "    w, h = base.size\n",
    "    Lw = randint(-150,w-50)\n",
    "    Lh = randint(-50,h-30)\n",
    "    #textin = \"The TwitterBot Project\" \n",
    "    #generate random color and opacity\n",
    "    r = randint(0,256)\n",
    "    g = randint(0,256)\n",
    "    b = randint(0,256)\n",
    "    a = randint(0,count)\n",
    "    d.text((Lw,Lh), textin, font=fnt, fill=(r,g,b,a))\n",
    "\n",
    "    out = Image.alpha_composite(base, txt)\n",
    "    #save the image and cycle again until count is satisfied\n",
    "    out.save(\"images/textbacktmp.jpg\", \"JPEG\")\n",
    "    count=count+1\n",
    "       \n",
    "#base = Image.open('images/NewFolder/lightning01.jpg').convert('RGBA')\n",
    "#8 5 4 6 3 2\n",
    "# make a blank image for the text, initialized to transparent text color\n",
    "txt = Image.new('RGBA', out.size, (255,255,255,0))\n",
    "\n",
    "# get a font\n",
    "fnt = ImageFont.truetype(\"/home/jack/.fonts/Exo-Black.ttf\", 20)\n",
    "# get a drawing context\n",
    "d = ImageDraw.Draw(txt)\n",
    "\n",
    "width, height = out.size\n",
    "# calculate the x,y coordinates of the text\n",
    "#marginx = 325\n",
    "#marginy = 75\n",
    "marginx = 125\n",
    "marginy = 30\n",
    "x = width - marginx\n",
    "y = height - marginy\n",
    "#Now add a signature\n",
    "textin = \"SuperDude\" \n",
    "d.text((x,y), textin, font=fnt, fill=(0,0,0,256))\n",
    "\n",
    "out = Image.alpha_composite(out, txt)\n",
    "out.save(\"images/image_signed.jpg\", \"JPEG\")\n",
    "out.show()\n",
    "#uncomment the bottom two lines for a unique filename\n",
    "#otherwise each time this cell is executed it will overwrite the image\n",
    "\n",
    "\n",
    "#filename = datetime.datetime.now().strftime(\"images/%Y%m%d%H%M%S.jpg\")\n",
    "#out.save(filename, \"JPEG\")"
   ]
  },
  {
   "cell_type": "markdown",
   "metadata": {},
   "source": [
    "# Place a title"
   ]
  },
  {
   "cell_type": "code",
   "execution_count": 41,
   "metadata": {},
   "outputs": [
    {
     "name": "stdout",
     "output_type": "stream",
     "text": [
      "0001twitter.jpg  0005twitter.jpg  0009twitter.jpg     StartBlank.jpg\r\n",
      "0002twitter.jpg  0006twitter.jpg  0010twitter.jpg     TEMP.jpg\r\n",
      "0003twitter.jpg  0007twitter.jpg  20170818120537.jpg  textbacktmp.jpg\r\n",
      "0004twitter.jpg  0008twitter.jpg  image_signed.jpg\r\n"
     ]
    }
   ],
   "source": [
    "!ls images"
   ]
  },
  {
   "cell_type": "code",
   "execution_count": 43,
   "metadata": {
    "collapsed": true
   },
   "outputs": [],
   "source": [
    "!showme images/0006twitter.jpg"
   ]
  },
  {
   "cell_type": "markdown",
   "metadata": {},
   "source": [
    "# Print A Title On An Image"
   ]
  },
  {
   "cell_type": "code",
   "execution_count": 44,
   "metadata": {
    "collapsed": true
   },
   "outputs": [],
   "source": [
    "from PIL import Image, ImageDraw, ImageFont\n",
    "# get an image\n",
    "base = Image.open('images/0006twitter.jpg').convert('RGBA')\n",
    "#8 5 4 6 3 2\n",
    "# make a blank image for the text, initialized to transparent text color\n",
    "txt = Image.new('RGBA', base.size, (255,255,255,0))\n",
    "\n",
    "# get a font\n",
    "fnt = ImageFont.truetype(\"/home/jack/.fonts/Exo-Black.ttf\", 50)\n",
    "# get a drawing context\n",
    "d = ImageDraw.Draw(txt)\n",
    "\n",
    "width, height = base.size\n",
    "# calculate the x,y coordinates of the text\n",
    "#marginx = 325\n",
    "#marginy = 75\n",
    "x = 90\n",
    "y = 10\n",
    "textin = \"PYTHON ROCKS\" \n",
    "d.text((x,y), textin, font=fnt, fill=(0,0,0,250))\n",
    "\n",
    "out2 = Image.alpha_composite(base, txt)\n",
    "out2.save(\"images/textback_post001.jpg\", \"JPEG\")\n",
    "out2.show()\n"
   ]
  },
  {
   "cell_type": "code",
   "execution_count": 47,
   "metadata": {
    "collapsed": true
   },
   "outputs": [],
   "source": [
    "!showme images/textback_post001.jpg"
   ]
  },
  {
   "cell_type": "markdown",
   "metadata": {},
   "source": [
    "# Add a Signature to the File Above\n",
    "This cell may be run several times to adjust text location and size <br />\n",
    "The original image is untouched, but the result image is overwritten "
   ]
  },
  {
   "cell_type": "code",
   "execution_count": 47,
   "metadata": {
    "collapsed": true
   },
   "outputs": [],
   "source": [
    "from PIL import Image, ImageDraw, ImageFont\n",
    "# get an image\n",
    "base = Image.open('images/textback_post001.jpg').convert('RGBA')\n",
    "#8 5 4 6 3 2\n",
    "# make a blank image for the text, initialized to transparent text color\n",
    "txt = Image.new('RGBA', base.size, (255,255,255,0))\n",
    "\n",
    "# get a font\n",
    "fnt = ImageFont.truetype(\"/home/jack/.fonts/Exo-Black.ttf\", 20)\n",
    "# get a drawing context\n",
    "d = ImageDraw.Draw(txt)\n",
    "\n",
    "width, height = base.size\n",
    "# calculate the x,y coordinates of the text\n",
    "#marginx = 325\n",
    "#marginy = 75\n",
    "marginx = 125\n",
    "marginy = 30\n",
    "x = width - marginx\n",
    "y = height - marginy\n",
    "textin = \"SuperDude\" \n",
    "d.text((x,y), textin, font=fnt, fill=(0,0,0,180))\n",
    "\n",
    "out = Image.alpha_composite(base, txt)\n",
    "out.save(\"images/textback_post002.jpg\", \"JPEG\")\n",
    "out.show()\n"
   ]
  },
  {
   "cell_type": "markdown",
   "metadata": {},
   "source": [
    "# POST TO TWITTER"
   ]
  },
  {
   "cell_type": "code",
   "execution_count": 51,
   "metadata": {},
   "outputs": [
    {
     "ename": "TwythonAuthError",
     "evalue": "Twitter API returned a 401 (Unauthorized), Invalid or expired token.",
     "output_type": "error",
     "traceback": [
      "\u001b[0;31m---------------------------------------------------------------------------\u001b[0m",
      "\u001b[0;31mTwythonAuthError\u001b[0m                          Traceback (most recent call last)",
      "\u001b[0;32m<ipython-input-51-4300f84e46e7>\u001b[0m in \u001b[0;36m<module>\u001b[0;34m()\u001b[0m\n\u001b[1;32m     31\u001b[0m \u001b[0;31m#photo = open('/home/jack/Desktop/deep-dream-generator/notebooks/images/'+file_list[rnd]+'.jpg','rb')\u001b[0m\u001b[0;34m\u001b[0m\u001b[0;34m\u001b[0m\u001b[0m\n\u001b[1;32m     32\u001b[0m \u001b[0mphoto\u001b[0m \u001b[0;34m=\u001b[0m \u001b[0mopen\u001b[0m\u001b[0;34m(\u001b[0m\u001b[0mPATH\u001b[0m\u001b[0;34m,\u001b[0m\u001b[0;34m'rb'\u001b[0m\u001b[0;34m)\u001b[0m\u001b[0;34m\u001b[0m\u001b[0m\n\u001b[0;32m---> 33\u001b[0;31m \u001b[0mresponse\u001b[0m \u001b[0;34m=\u001b[0m \u001b[0mtwitter\u001b[0m\u001b[0;34m.\u001b[0m\u001b[0mupload_media\u001b[0m\u001b[0;34m(\u001b[0m\u001b[0mmedia\u001b[0m\u001b[0;34m=\u001b[0m\u001b[0mphoto\u001b[0m\u001b[0;34m)\u001b[0m\u001b[0;34m\u001b[0m\u001b[0m\n\u001b[0m\u001b[1;32m     34\u001b[0m \u001b[0mtwitter\u001b[0m\u001b[0;34m.\u001b[0m\u001b[0mupdate_status\u001b[0m\u001b[0;34m(\u001b[0m\u001b[0mstatus\u001b[0m\u001b[0;34m=\u001b[0m\u001b[0mSTR\u001b[0m\u001b[0;34m,\u001b[0m \u001b[0mmedia_ids\u001b[0m\u001b[0;34m=\u001b[0m\u001b[0;34m[\u001b[0m\u001b[0mresponse\u001b[0m\u001b[0;34m[\u001b[0m\u001b[0;34m'media_id'\u001b[0m\u001b[0;34m]\u001b[0m\u001b[0;34m]\u001b[0m\u001b[0;34m)\u001b[0m\u001b[0;34m\u001b[0m\u001b[0m\n",
      "\u001b[0;32m/home/jack/Desktop/pycode/vpython2/twython/endpoints.pyc\u001b[0m in \u001b[0;36mupload_media\u001b[0;34m(self, **params)\u001b[0m\n\u001b[1;32m    149\u001b[0m             \u001b[0;32mreturn\u001b[0m \u001b[0mself\u001b[0m\u001b[0;34m.\u001b[0m\u001b[0mget\u001b[0m\u001b[0;34m(\u001b[0m\u001b[0;34m'https://upload.twitter.com/1.1/media/upload.json'\u001b[0m\u001b[0;34m,\u001b[0m \u001b[0mparams\u001b[0m\u001b[0;34m=\u001b[0m\u001b[0mparams\u001b[0m\u001b[0;34m)\u001b[0m\u001b[0;34m\u001b[0m\u001b[0m\n\u001b[1;32m    150\u001b[0m \u001b[0;34m\u001b[0m\u001b[0m\n\u001b[0;32m--> 151\u001b[0;31m         \u001b[0;32mreturn\u001b[0m \u001b[0mself\u001b[0m\u001b[0;34m.\u001b[0m\u001b[0mpost\u001b[0m\u001b[0;34m(\u001b[0m\u001b[0;34m'https://upload.twitter.com/1.1/media/upload.json'\u001b[0m\u001b[0;34m,\u001b[0m \u001b[0mparams\u001b[0m\u001b[0;34m=\u001b[0m\u001b[0mparams\u001b[0m\u001b[0;34m)\u001b[0m\u001b[0;34m\u001b[0m\u001b[0m\n\u001b[0m\u001b[1;32m    152\u001b[0m \u001b[0;34m\u001b[0m\u001b[0m\n\u001b[1;32m    153\u001b[0m     \u001b[0;32mdef\u001b[0m \u001b[0mupload_video\u001b[0m\u001b[0;34m(\u001b[0m\u001b[0mself\u001b[0m\u001b[0;34m,\u001b[0m \u001b[0mmedia\u001b[0m\u001b[0;34m,\u001b[0m \u001b[0mmedia_type\u001b[0m\u001b[0;34m,\u001b[0m \u001b[0mmedia_category\u001b[0m\u001b[0;34m=\u001b[0m\u001b[0mNone\u001b[0m\u001b[0;34m,\u001b[0m \u001b[0msize\u001b[0m\u001b[0;34m=\u001b[0m\u001b[0mNone\u001b[0m\u001b[0;34m,\u001b[0m \u001b[0mcheck_progress\u001b[0m\u001b[0;34m=\u001b[0m\u001b[0mFalse\u001b[0m\u001b[0;34m)\u001b[0m\u001b[0;34m:\u001b[0m\u001b[0;34m\u001b[0m\u001b[0m\n",
      "\u001b[0;32m/home/jack/Desktop/pycode/vpython2/twython/api.pyc\u001b[0m in \u001b[0;36mpost\u001b[0;34m(self, endpoint, params, version)\u001b[0m\n\u001b[1;32m    266\u001b[0m     \u001b[0;32mdef\u001b[0m \u001b[0mpost\u001b[0m\u001b[0;34m(\u001b[0m\u001b[0mself\u001b[0m\u001b[0;34m,\u001b[0m \u001b[0mendpoint\u001b[0m\u001b[0;34m,\u001b[0m \u001b[0mparams\u001b[0m\u001b[0;34m=\u001b[0m\u001b[0mNone\u001b[0m\u001b[0;34m,\u001b[0m \u001b[0mversion\u001b[0m\u001b[0;34m=\u001b[0m\u001b[0;34m'1.1'\u001b[0m\u001b[0;34m)\u001b[0m\u001b[0;34m:\u001b[0m\u001b[0;34m\u001b[0m\u001b[0m\n\u001b[1;32m    267\u001b[0m         \u001b[0;34m\"\"\"Shortcut for POST requests via :class:`request`\"\"\"\u001b[0m\u001b[0;34m\u001b[0m\u001b[0m\n\u001b[0;32m--> 268\u001b[0;31m         \u001b[0;32mreturn\u001b[0m \u001b[0mself\u001b[0m\u001b[0;34m.\u001b[0m\u001b[0mrequest\u001b[0m\u001b[0;34m(\u001b[0m\u001b[0mendpoint\u001b[0m\u001b[0;34m,\u001b[0m \u001b[0;34m'POST'\u001b[0m\u001b[0;34m,\u001b[0m \u001b[0mparams\u001b[0m\u001b[0;34m=\u001b[0m\u001b[0mparams\u001b[0m\u001b[0;34m,\u001b[0m \u001b[0mversion\u001b[0m\u001b[0;34m=\u001b[0m\u001b[0mversion\u001b[0m\u001b[0;34m)\u001b[0m\u001b[0;34m\u001b[0m\u001b[0m\n\u001b[0m\u001b[1;32m    269\u001b[0m \u001b[0;34m\u001b[0m\u001b[0m\n\u001b[1;32m    270\u001b[0m     \u001b[0;32mdef\u001b[0m \u001b[0mget_lastfunction_header\u001b[0m\u001b[0;34m(\u001b[0m\u001b[0mself\u001b[0m\u001b[0;34m,\u001b[0m \u001b[0mheader\u001b[0m\u001b[0;34m,\u001b[0m \u001b[0mdefault_return_value\u001b[0m\u001b[0;34m=\u001b[0m\u001b[0mNone\u001b[0m\u001b[0;34m)\u001b[0m\u001b[0;34m:\u001b[0m\u001b[0;34m\u001b[0m\u001b[0m\n",
      "\u001b[0;32m/home/jack/Desktop/pycode/vpython2/twython/api.pyc\u001b[0m in \u001b[0;36mrequest\u001b[0;34m(self, endpoint, method, params, version)\u001b[0m\n\u001b[1;32m    256\u001b[0m \u001b[0;34m\u001b[0m\u001b[0m\n\u001b[1;32m    257\u001b[0m         content = self._request(url, method=method, params=params,\n\u001b[0;32m--> 258\u001b[0;31m                                 api_call=url)\n\u001b[0m\u001b[1;32m    259\u001b[0m \u001b[0;34m\u001b[0m\u001b[0m\n\u001b[1;32m    260\u001b[0m         \u001b[0;32mreturn\u001b[0m \u001b[0mcontent\u001b[0m\u001b[0;34m\u001b[0m\u001b[0m\n",
      "\u001b[0;32m/home/jack/Desktop/pycode/vpython2/twython/api.pyc\u001b[0m in \u001b[0;36m_request\u001b[0;34m(self, url, method, params, api_call)\u001b[0m\n\u001b[1;32m    192\u001b[0m                 \u001b[0merror_message\u001b[0m\u001b[0;34m,\u001b[0m\u001b[0;34m\u001b[0m\u001b[0m\n\u001b[1;32m    193\u001b[0m                 \u001b[0merror_code\u001b[0m\u001b[0;34m=\u001b[0m\u001b[0mresponse\u001b[0m\u001b[0;34m.\u001b[0m\u001b[0mstatus_code\u001b[0m\u001b[0;34m,\u001b[0m\u001b[0;34m\u001b[0m\u001b[0m\n\u001b[0;32m--> 194\u001b[0;31m                 retry_after=response.headers.get('X-Rate-Limit-Reset'))\n\u001b[0m\u001b[1;32m    195\u001b[0m \u001b[0;34m\u001b[0m\u001b[0m\n\u001b[1;32m    196\u001b[0m         \u001b[0;32mtry\u001b[0m\u001b[0;34m:\u001b[0m\u001b[0;34m\u001b[0m\u001b[0m\n",
      "\u001b[0;31mTwythonAuthError\u001b[0m: Twitter API returned a 401 (Unauthorized), Invalid or expired token."
     ]
    }
   ],
   "source": [
    "#%%writefile twitterpost.py\n",
    "#!/anaconda2/bin/python\n",
    "import os\n",
    "import random\n",
    "import sys\n",
    "import markovify\n",
    "sys.path.insert(0, '/home/jack/Desktop/pycode/vpython2')\n",
    "import twython\n",
    "from twython import Twython\n",
    "import random\n",
    "import time\n",
    "#removed keys for privacy reasons\n",
    "CONSUMER_KEY = 'XXXXXXXXXXXXXXXX'\n",
    "CONSUMER_SECRET = 'XXXXXXXXXXXXXXXX'\n",
    "ACCESS_KEY = 'XXXXXXXXXXXXXXXX'\n",
    "ACCESS_SECRET = 'XXXXXXXXXXXXXXXX'\n",
    "\n",
    "twitter = Twython(CONSUMER_KEY, CONSUMER_SECRET, ACCESS_KEY, ACCESS_SECRET)\n",
    "#path = 'images/NewFolder'\n",
    "f = open(\"art.txt\")\n",
    "text = f.read()\n",
    "# Build the model.\n",
    "text_model = markovify.Text(text)\n",
    "# Print randomly-generated sentences of no more than 140 characters\n",
    "#http://paulbourke.net/fractals/\n",
    "#STR = (text_model.make_short_sentence(140))\n",
    "STR = (\"#wordcloud from pip freeze -Python is loads of fun #pip #freeze #python #modules #pythonmodules #pythongraphics\")\n",
    "#PATH = \"/home/jack/Desktop/deep-dream-generator/notebooks/STUFF/experiment/experiment8.jpg\"\n",
    "PATH = \"images/textback_post002.jpg\"\n",
    "# 1 , 2, 3, 12, 5, 15, 8, 6\n",
    "#photo = open('/home/jack/Desktop/deep-dream-generator/notebooks/images/'+file_list[rnd]+'.jpg','rb')\n",
    "photo = open(PATH,'rb')\n",
    "response = twitter.upload_media(media=photo)\n",
    "twitter.update_status(status=STR, media_ids=[response['media_id']])\n"
   ]
  },
  {
   "cell_type": "markdown",
   "metadata": {},
   "source": [
    "# Image Create - - - ALL IN ONE "
   ]
  },
  {
   "cell_type": "code",
   "execution_count": 75,
   "metadata": {
    "collapsed": true
   },
   "outputs": [],
   "source": [
    "from PIL import Image, ImageDraw, ImageFont\n",
    "import random\n",
    "from random import randint\n",
    "# get an image\n",
    "\n",
    "title = \"Python Stuff\"\n",
    "signature_ = \"Jack Northrup\" \n",
    "\n",
    "count = 1\n",
    "start = Image.open('images/0006twitter.jpg').convert('RGBA')\n",
    "start.save('images/textbacktmp.jpg')\n",
    "while count < 256 :\n",
    "    base = Image.open('images/textbacktmp.jpg').convert('RGBA')\n",
    " \n",
    "    #8 5 4 6 3 2\n",
    "    # make a blank image for the text, initialized to transparent text color\n",
    "    txt = Image.new('RGBA', base.size, (255,255,255,0))\n",
    "    # get a font\n",
    "    #generate a random size for the font\n",
    "    int_n = int(count*.2)\n",
    "    Fsize = randint(15,100-int_n)\n",
    "    fnt = ImageFont.truetype(\"/home/jack/.fonts/Exo-Black.ttf\", Fsize)\n",
    "    # get a drawing context\n",
    "    d = ImageDraw.Draw(txt)\n",
    "\n",
    "    width, height = base.size\n",
    "\n",
    "\n",
    "    def generate_the_word(infile):\n",
    "        with open(infile) as f:\n",
    "            contents_of_file = f.read()\n",
    "        lines = contents_of_file.splitlines()\n",
    "        line_number = random.randrange(0, len(lines))\n",
    "        return lines[line_number]\n",
    "    textin = (generate_the_word(\"wordcloud.txt\"))\n",
    "\n",
    "    # calculate the x,y coordinates of the text\n",
    "    w, h = base.size\n",
    "    Lw = randint(-150,w-50)\n",
    "    Lh = randint(-50,h-30)\n",
    "    #textin = \"The TwitterBot Project\" \n",
    "    #generate random color and opacity\n",
    "    r = randint(0,256)\n",
    "    g = randint(0,256)\n",
    "    b = randint(0,256)\n",
    "    a = randint(0,count)\n",
    "    d.text((Lw,Lh), textin, font=fnt, fill=(r,g,b,a))\n",
    "\n",
    "    out = Image.alpha_composite(base, txt)\n",
    "    out.save(\"images/textbacktmp.jpg\", \"JPEG\")\n",
    "    count=count+1\n",
    "       \n",
    "#base = Image.open('images/NewFolder/lightning01.jpg').convert('RGBA')\n",
    "#8 5 4 6 3 2\n",
    "# make a blank image for the text, initialized to transparent text color\n",
    "txt = Image.new('RGBA', out.size, (255,255,255,0))\n",
    "\n",
    "# get a font\n",
    "fnt = ImageFont.truetype(\"/home/jack/.fonts/Exo-Black.ttf\", 20)\n",
    "# get a drawing context\n",
    "d = ImageDraw.Draw(txt)\n",
    "\n",
    "width, height = out.size\n",
    "# calculate the x,y coordinates of the text\n",
    "#marginx = 325\n",
    "#marginy = 75\n",
    "marginx = 225\n",
    "marginy = 50\n",
    "x = width - marginx\n",
    "y = height - marginy\n",
    "\n",
    "d.text((x,y), signature_, font=fnt, fill=(0,0,0,256))\n",
    "\n",
    "out = Image.alpha_composite(out, txt)\n",
    "out.save(\"images/tmpN.jpg\", \"JPEG\")\n",
    "# save the image then reopen to put a title\n",
    "base = Image.open('images/tmpN.jpg').convert('RGBA')\n",
    "#8 5 4 6 3 2\n",
    "# make a blank image for the text, initialized to transparent text color\n",
    "txt = Image.new('RGBA', base.size, (255,255,255,0))\n",
    "\n",
    "# get a font\n",
    "fnt = ImageFont.truetype(\"/home/jack/.fonts/Exo-Black.ttf\", 50)\n",
    "# get a drawing context\n",
    "d = ImageDraw.Draw(txt)\n",
    "\n",
    "width, height = base.size\n",
    "# calculate the x,y coordinates of the text\n",
    "#marginx = 325\n",
    "#marginy = 75\n",
    "x = 90\n",
    "y = 10\n",
    "\n",
    "d.text((x,y), title , font=fnt, fill=(0,0,0,250))\n",
    "\n",
    "out2 = Image.alpha_composite(base, txt)\n",
    "out2.save(\"images/textbackP_post003.jpg\", \"JPEG\")\n",
    "out2.show()\n"
   ]
  },
  {
   "cell_type": "markdown",
   "metadata": {},
   "source": [
    "# Generates a random title from title.txt"
   ]
  },
  {
   "cell_type": "code",
   "execution_count": 54,
   "metadata": {
    "collapsed": true
   },
   "outputs": [],
   "source": [
    "!cp images/0006twitter.jpg images/newback.jpg"
   ]
  },
  {
   "cell_type": "code",
   "execution_count": 57,
   "metadata": {
    "collapsed": true
   },
   "outputs": [],
   "source": [
    "from PIL import Image, ImageDraw, ImageFont\n",
    "import random\n",
    "from random import randint\n",
    "# get an image\n",
    "\n",
    "\n",
    "#title = \"Python Stuff\"\n",
    "signature_ = \"SuperDude\" \n",
    "\n",
    "count = 1\n",
    "start = Image.open('images/newback.jpg').convert('RGBA')\n",
    "start.save('images/textbacktmp.jpg')\n",
    "while count < 256 :\n",
    "    base = Image.open('images/textbacktmp.jpg').convert('RGBA')\n",
    " \n",
    "    #8 5 4 6 3 2\n",
    "    # make a blank image for the text, initialized to transparent text color\n",
    "    txt = Image.new('RGBA', base.size, (255,255,255,0))\n",
    "    # get a font\n",
    "    #generate a random size for the font\n",
    "    int_n = int(count*.2)\n",
    "    Fsize = randint(15,100-int_n)\n",
    "    fnt = ImageFont.truetype(\"/home/jack/.fonts/Exo-Black.ttf\", Fsize)\n",
    "    # get a drawing context\n",
    "    d = ImageDraw.Draw(txt)\n",
    "\n",
    "    width, height = base.size\n",
    "\n",
    "\n",
    "    def generate_the_word(infile):\n",
    "        with open(infile) as f:\n",
    "            contents_of_file = f.read()\n",
    "        lines = contents_of_file.splitlines()\n",
    "        line_number = random.randrange(0, len(lines))\n",
    "        return lines[line_number]\n",
    "    textin = (generate_the_word(\"wordcloud.txt\"))\n",
    "\n",
    "    # calculate the x,y coordinates of the text\n",
    "    w, h = base.size\n",
    "    Lw = randint(-150,w-50)\n",
    "    Lh = randint(-50,h-30)\n",
    "    #textin = \"The TwitterBot Project\" \n",
    "    #generate random color and opacity\n",
    "    r = randint(0,256)\n",
    "    g = randint(0,256)\n",
    "    b = randint(0,256)\n",
    "    a = randint(0,count)\n",
    "    d.text((Lw,Lh), textin, font=fnt, fill=(r,g,b,a))\n",
    "\n",
    "    out = Image.alpha_composite(base, txt)\n",
    "    out.save(\"images/textbacktmp.jpg\", \"JPEG\")\n",
    "    count=count+1\n",
    "       \n",
    "#base = Image.open('images/NewFolder/lightning01.jpg').convert('RGBA')\n",
    "#8 5 4 6 3 2\n",
    "# make a blank image for the text, initialized to transparent text color\n",
    "txt = Image.new('RGBA', out.size, (255,255,255,0))\n",
    "\n",
    "# get a font\n",
    "fnt = ImageFont.truetype(\"/home/jack/.fonts/Exo-Black.ttf\", 20)\n",
    "# get a drawing context\n",
    "d = ImageDraw.Draw(txt)\n",
    "\n",
    "width, height = out.size\n",
    "# calculate the x,y coordinates of the text\n",
    "#marginx = 325\n",
    "#marginy = 75\n",
    "marginx = 225\n",
    "marginy = 50\n",
    "x = width - marginx\n",
    "y = height - marginy\n",
    "\n",
    "d.text((x,y), signature_, font=fnt, fill=(0,0,0,256))\n",
    "\n",
    "out = Image.alpha_composite(out, txt)\n",
    "out.save(\"images/tmp.jpg\", \"JPEG\")\n",
    "# save the image then reopen to put a title\n",
    "base = Image.open('images/tmp.jpg').convert('RGBA')\n",
    "#8 5 4 6 3 2\n",
    "# make a blank image for the text, initialized to transparent text color\n",
    "txt = Image.new('RGBA', base.size, (255,255,255,0))\n",
    "\n",
    "# get a font\n",
    "fnt = ImageFont.truetype(\"/home/jack/.fonts/Exo-Black.ttf\", 50)\n",
    "# get a drawing context\n",
    "d = ImageDraw.Draw(txt)\n",
    "\n",
    "width, height = base.size\n",
    "# calculate the x,y coordinates of the text\n",
    "#marginx = 325\n",
    "#marginy = 75\n",
    "x = 90\n",
    "y = 10\n",
    "#generate a title\n",
    "title = (generate_the_word(\"titles.txt\"))\n",
    "\n",
    "d.text((x,y), title , font=fnt, fill=(0,0,0,250))\n",
    "\n",
    "out2 = Image.alpha_composite(base, txt)\n",
    "out2.save(\"images/textbackP_post004.jpg\", \"JPEG\")\n",
    "out2.show()\n"
   ]
  },
  {
   "cell_type": "code",
   "execution_count": 1,
   "metadata": {},
   "outputs": [
    {
     "name": "stdout",
     "output_type": "stream",
     "text": [
      "Writing titles.txt\n"
     ]
    }
   ],
   "source": [
    "%%writefile titles.txt\n",
    "Python Fun\n",
    "Python Graphics\n",
    "Generator\n",
    "Word Cloud\n",
    "Graphics\n",
    "Fun w/Python\n",
    "Python Stuff\n",
    "PYTHON !!!\n",
    "Love`en Python\n",
    "Creative Python\n",
    "Graphic Fun"
   ]
  },
  {
   "cell_type": "code",
   "execution_count": null,
   "metadata": {
    "collapsed": true
   },
   "outputs": [],
   "source": []
  },
  {
   "cell_type": "markdown",
   "metadata": {},
   "source": [
    "# Image Create and post to Twitter ALL_IN_ONE"
   ]
  },
  {
   "cell_type": "code",
   "execution_count": 60,
   "metadata": {},
   "outputs": [
    {
     "ename": "TwythonAuthError",
     "evalue": "Twitter API returned a 401 (Unauthorized), Invalid or expired token.",
     "output_type": "error",
     "traceback": [
      "\u001b[0;31m---------------------------------------------------------------------------\u001b[0m",
      "\u001b[0;31mTwythonAuthError\u001b[0m                          Traceback (most recent call last)",
      "\u001b[0;32m<ipython-input-60-9c6db2cef446>\u001b[0m in \u001b[0;36m<module>\u001b[0;34m()\u001b[0m\n\u001b[1;32m    126\u001b[0m \u001b[0;31m#photo = open('/home/jack/Desktop/deep-dream-generator/notebooks/images/'+file_list[rnd]+'.jpg','rb')\u001b[0m\u001b[0;34m\u001b[0m\u001b[0;34m\u001b[0m\u001b[0m\n\u001b[1;32m    127\u001b[0m \u001b[0mphoto\u001b[0m \u001b[0;34m=\u001b[0m \u001b[0mopen\u001b[0m\u001b[0;34m(\u001b[0m\u001b[0mPATH\u001b[0m\u001b[0;34m,\u001b[0m\u001b[0;34m'rb'\u001b[0m\u001b[0;34m)\u001b[0m\u001b[0;34m\u001b[0m\u001b[0m\n\u001b[0;32m--> 128\u001b[0;31m \u001b[0mresponse\u001b[0m \u001b[0;34m=\u001b[0m \u001b[0mtwitter\u001b[0m\u001b[0;34m.\u001b[0m\u001b[0mupload_media\u001b[0m\u001b[0;34m(\u001b[0m\u001b[0mmedia\u001b[0m\u001b[0;34m=\u001b[0m\u001b[0mphoto\u001b[0m\u001b[0;34m)\u001b[0m\u001b[0;34m\u001b[0m\u001b[0m\n\u001b[0m\u001b[1;32m    129\u001b[0m \u001b[0mtwitter\u001b[0m\u001b[0;34m.\u001b[0m\u001b[0mupdate_status\u001b[0m\u001b[0;34m(\u001b[0m\u001b[0mstatus\u001b[0m\u001b[0;34m=\u001b[0m\u001b[0mSTR\u001b[0m\u001b[0;34m,\u001b[0m \u001b[0mmedia_ids\u001b[0m\u001b[0;34m=\u001b[0m\u001b[0;34m[\u001b[0m\u001b[0mresponse\u001b[0m\u001b[0;34m[\u001b[0m\u001b[0;34m'media_id'\u001b[0m\u001b[0;34m]\u001b[0m\u001b[0;34m]\u001b[0m\u001b[0;34m)\u001b[0m\u001b[0;34m\u001b[0m\u001b[0m\n",
      "\u001b[0;32m/home/jack/Desktop/pycode/vpython2/twython/endpoints.pyc\u001b[0m in \u001b[0;36mupload_media\u001b[0;34m(self, **params)\u001b[0m\n\u001b[1;32m    149\u001b[0m             \u001b[0;32mreturn\u001b[0m \u001b[0mself\u001b[0m\u001b[0;34m.\u001b[0m\u001b[0mget\u001b[0m\u001b[0;34m(\u001b[0m\u001b[0;34m'https://upload.twitter.com/1.1/media/upload.json'\u001b[0m\u001b[0;34m,\u001b[0m \u001b[0mparams\u001b[0m\u001b[0;34m=\u001b[0m\u001b[0mparams\u001b[0m\u001b[0;34m)\u001b[0m\u001b[0;34m\u001b[0m\u001b[0m\n\u001b[1;32m    150\u001b[0m \u001b[0;34m\u001b[0m\u001b[0m\n\u001b[0;32m--> 151\u001b[0;31m         \u001b[0;32mreturn\u001b[0m \u001b[0mself\u001b[0m\u001b[0;34m.\u001b[0m\u001b[0mpost\u001b[0m\u001b[0;34m(\u001b[0m\u001b[0;34m'https://upload.twitter.com/1.1/media/upload.json'\u001b[0m\u001b[0;34m,\u001b[0m \u001b[0mparams\u001b[0m\u001b[0;34m=\u001b[0m\u001b[0mparams\u001b[0m\u001b[0;34m)\u001b[0m\u001b[0;34m\u001b[0m\u001b[0m\n\u001b[0m\u001b[1;32m    152\u001b[0m \u001b[0;34m\u001b[0m\u001b[0m\n\u001b[1;32m    153\u001b[0m     \u001b[0;32mdef\u001b[0m \u001b[0mupload_video\u001b[0m\u001b[0;34m(\u001b[0m\u001b[0mself\u001b[0m\u001b[0;34m,\u001b[0m \u001b[0mmedia\u001b[0m\u001b[0;34m,\u001b[0m \u001b[0mmedia_type\u001b[0m\u001b[0;34m,\u001b[0m \u001b[0mmedia_category\u001b[0m\u001b[0;34m=\u001b[0m\u001b[0mNone\u001b[0m\u001b[0;34m,\u001b[0m \u001b[0msize\u001b[0m\u001b[0;34m=\u001b[0m\u001b[0mNone\u001b[0m\u001b[0;34m,\u001b[0m \u001b[0mcheck_progress\u001b[0m\u001b[0;34m=\u001b[0m\u001b[0mFalse\u001b[0m\u001b[0;34m)\u001b[0m\u001b[0;34m:\u001b[0m\u001b[0;34m\u001b[0m\u001b[0m\n",
      "\u001b[0;32m/home/jack/Desktop/pycode/vpython2/twython/api.pyc\u001b[0m in \u001b[0;36mpost\u001b[0;34m(self, endpoint, params, version)\u001b[0m\n\u001b[1;32m    266\u001b[0m     \u001b[0;32mdef\u001b[0m \u001b[0mpost\u001b[0m\u001b[0;34m(\u001b[0m\u001b[0mself\u001b[0m\u001b[0;34m,\u001b[0m \u001b[0mendpoint\u001b[0m\u001b[0;34m,\u001b[0m \u001b[0mparams\u001b[0m\u001b[0;34m=\u001b[0m\u001b[0mNone\u001b[0m\u001b[0;34m,\u001b[0m \u001b[0mversion\u001b[0m\u001b[0;34m=\u001b[0m\u001b[0;34m'1.1'\u001b[0m\u001b[0;34m)\u001b[0m\u001b[0;34m:\u001b[0m\u001b[0;34m\u001b[0m\u001b[0m\n\u001b[1;32m    267\u001b[0m         \u001b[0;34m\"\"\"Shortcut for POST requests via :class:`request`\"\"\"\u001b[0m\u001b[0;34m\u001b[0m\u001b[0m\n\u001b[0;32m--> 268\u001b[0;31m         \u001b[0;32mreturn\u001b[0m \u001b[0mself\u001b[0m\u001b[0;34m.\u001b[0m\u001b[0mrequest\u001b[0m\u001b[0;34m(\u001b[0m\u001b[0mendpoint\u001b[0m\u001b[0;34m,\u001b[0m \u001b[0;34m'POST'\u001b[0m\u001b[0;34m,\u001b[0m \u001b[0mparams\u001b[0m\u001b[0;34m=\u001b[0m\u001b[0mparams\u001b[0m\u001b[0;34m,\u001b[0m \u001b[0mversion\u001b[0m\u001b[0;34m=\u001b[0m\u001b[0mversion\u001b[0m\u001b[0;34m)\u001b[0m\u001b[0;34m\u001b[0m\u001b[0m\n\u001b[0m\u001b[1;32m    269\u001b[0m \u001b[0;34m\u001b[0m\u001b[0m\n\u001b[1;32m    270\u001b[0m     \u001b[0;32mdef\u001b[0m \u001b[0mget_lastfunction_header\u001b[0m\u001b[0;34m(\u001b[0m\u001b[0mself\u001b[0m\u001b[0;34m,\u001b[0m \u001b[0mheader\u001b[0m\u001b[0;34m,\u001b[0m \u001b[0mdefault_return_value\u001b[0m\u001b[0;34m=\u001b[0m\u001b[0mNone\u001b[0m\u001b[0;34m)\u001b[0m\u001b[0;34m:\u001b[0m\u001b[0;34m\u001b[0m\u001b[0m\n",
      "\u001b[0;32m/home/jack/Desktop/pycode/vpython2/twython/api.pyc\u001b[0m in \u001b[0;36mrequest\u001b[0;34m(self, endpoint, method, params, version)\u001b[0m\n\u001b[1;32m    256\u001b[0m \u001b[0;34m\u001b[0m\u001b[0m\n\u001b[1;32m    257\u001b[0m         content = self._request(url, method=method, params=params,\n\u001b[0;32m--> 258\u001b[0;31m                                 api_call=url)\n\u001b[0m\u001b[1;32m    259\u001b[0m \u001b[0;34m\u001b[0m\u001b[0m\n\u001b[1;32m    260\u001b[0m         \u001b[0;32mreturn\u001b[0m \u001b[0mcontent\u001b[0m\u001b[0;34m\u001b[0m\u001b[0m\n",
      "\u001b[0;32m/home/jack/Desktop/pycode/vpython2/twython/api.pyc\u001b[0m in \u001b[0;36m_request\u001b[0;34m(self, url, method, params, api_call)\u001b[0m\n\u001b[1;32m    192\u001b[0m                 \u001b[0merror_message\u001b[0m\u001b[0;34m,\u001b[0m\u001b[0;34m\u001b[0m\u001b[0m\n\u001b[1;32m    193\u001b[0m                 \u001b[0merror_code\u001b[0m\u001b[0;34m=\u001b[0m\u001b[0mresponse\u001b[0m\u001b[0;34m.\u001b[0m\u001b[0mstatus_code\u001b[0m\u001b[0;34m,\u001b[0m\u001b[0;34m\u001b[0m\u001b[0m\n\u001b[0;32m--> 194\u001b[0;31m                 retry_after=response.headers.get('X-Rate-Limit-Reset'))\n\u001b[0m\u001b[1;32m    195\u001b[0m \u001b[0;34m\u001b[0m\u001b[0m\n\u001b[1;32m    196\u001b[0m         \u001b[0;32mtry\u001b[0m\u001b[0;34m:\u001b[0m\u001b[0;34m\u001b[0m\u001b[0m\n",
      "\u001b[0;31mTwythonAuthError\u001b[0m: Twitter API returned a 401 (Unauthorized), Invalid or expired token."
     ]
    }
   ],
   "source": [
    "#%%writefile TwittePost.py\n",
    "#!/anaconda2/bin/python\n",
    "import os\n",
    "import random\n",
    "import sys\n",
    "import markovify\n",
    "import twython\n",
    "from twython import Twython\n",
    "import time\n",
    "from PIL import Image, ImageDraw, ImageFont\n",
    "from random import randint\n",
    "# get an image\n",
    "\n",
    "#title = \"Python Stuff\"\n",
    "signature_ = \"My Python Project\" \n",
    "\n",
    "count = 1\n",
    "start = Image.open('images/newback.jpg').convert('RGBA')\n",
    "start.save('images/textbacktmp.jpg')\n",
    "while count < 256 :\n",
    "    base = Image.open('images/textbacktmp.jpg').convert('RGBA')\n",
    " \n",
    "    #8 5 4 6 3 2\n",
    "    # make a blank image for the text, initialized to transparent text color\n",
    "    txt = Image.new('RGBA', base.size, (255,255,255,0))\n",
    "    # get a font\n",
    "    #generate a random size for the font\n",
    "    int_n = int(count*.2)\n",
    "    Fsize = randint(15,100-int_n)\n",
    "    fnt = ImageFont.truetype(\"/home/jack/.fonts/Exo-Black.ttf\", Fsize)\n",
    "    # get a drawing context\n",
    "    d = ImageDraw.Draw(txt)\n",
    "\n",
    "    width, height = base.size\n",
    "\n",
    "\n",
    "    def generate_the_word(infile):\n",
    "        with open(infile) as f:\n",
    "            contents_of_file = f.read()\n",
    "        lines = contents_of_file.splitlines()\n",
    "        line_number = random.randrange(0, len(lines))\n",
    "        return lines[line_number]\n",
    "    textin = (generate_the_word(\"wordcloud.txt\"))\n",
    "\n",
    "    # calculate the x,y coordinates of the text\n",
    "    w, h = base.size\n",
    "    Lw = randint(-150,w-50)\n",
    "    Lh = randint(-50,h-30)\n",
    "    #textin = \"The TwitterBot Project\" \n",
    "    #generate random color and opacity\n",
    "    r = randint(0,256)\n",
    "    g = randint(0,256)\n",
    "    b = randint(0,256)\n",
    "    a = randint(0,count)\n",
    "    d.text((Lw,Lh), textin, font=fnt, fill=(r,g,b,a))\n",
    "\n",
    "    out = Image.alpha_composite(base, txt)\n",
    "    out.save(\"images/textbacktmp.jpg\", \"JPEG\")\n",
    "    count=count+1\n",
    "       \n",
    "#base = Image.open('images/NewFolder/lightning01.jpg').convert('RGBA')\n",
    "#8 5 4 6 3 2\n",
    "# make a blank image for the text, initialized to transparent text color\n",
    "txt = Image.new('RGBA', out.size, (255,255,255,0))\n",
    "\n",
    "# get a font\n",
    "fnt = ImageFont.truetype(\"/home/jack/.fonts/Exo-Black.ttf\", 20)\n",
    "# get a drawing context\n",
    "d = ImageDraw.Draw(txt)\n",
    "\n",
    "width, height = out.size\n",
    "# calculate the x,y coordinates of the text\n",
    "#marginx = 325\n",
    "#marginy = 75\n",
    "marginx = 225\n",
    "marginy = 50\n",
    "x = width - marginx\n",
    "y = height - marginy\n",
    "\n",
    "d.text((x,y), signature_, font=fnt, fill=(0,0,0,256))\n",
    "\n",
    "out = Image.alpha_composite(out, txt)\n",
    "out.save(\"images/tmp3.jpg\", \"JPEG\")\n",
    "# save the image then reopen to put a title\n",
    "base = Image.open('images/tmp3.jpg').convert('RGBA')\n",
    "#8 5 4 6 3 2\n",
    "# make a blank image for the text, initialized to transparent text color\n",
    "txt = Image.new('RGBA', base.size, (255,255,255,0))\n",
    "\n",
    "# get a font\n",
    "fnt = ImageFont.truetype(\"/home/jack/.fonts/Exo-Black.ttf\", 50)\n",
    "# get a drawing context\n",
    "d = ImageDraw.Draw(txt)\n",
    "\n",
    "width, height = base.size\n",
    "# calculate the x,y coordinates of the text\n",
    "#marginx = 325\n",
    "#marginy = 75\n",
    "x = 90\n",
    "y = 10\n",
    "#generate a title\n",
    "title = (generate_the_word(\"titles.txt\"))\n",
    "d.text((x,y), title , font=fnt, fill=(0,0,0,250))\n",
    "out2 = Image.alpha_composite(base, txt)\n",
    "out2.save(\"images/TM_POST.jpg\", \"JPEG\")\n",
    "\n",
    "#removed keys for privacy reasons\n",
    "CONSUMER_KEY = 'XXXXXXXXXXXXXXXX'\n",
    "CONSUMER_SECRET = 'XXXXXXXXXXXXXXXX'\n",
    "ACCESS_KEY = 'XXXXXXXXXXXXXXXX'\n",
    "ACCESS_SECRET = 'XXXXXXXXXXXXXXXX'\n",
    "\n",
    "twitter = Twython(CONSUMER_KEY, CONSUMER_SECRET, ACCESS_KEY, ACCESS_SECRET)\n",
    "#path = 'images/NewFolder'\n",
    "f = open(\"art.txt\")\n",
    "text = f.read()\n",
    "# Build the model.\n",
    "text_model = markovify.Text(text)\n",
    "# Print randomly-generated sentences of no more than 140 characters\n",
    "#http://paulbourke.net/fractals/\n",
    "#STR = (text_model.make_short_sentence(140))\n",
    "STR = (\"#All_in_One - #WordCloud #Create - Added ability to randomly choose an image background  #Automated\")\n",
    "#PATH = \"/home/jack/Desktop/deep-dream-generator/notebooks/STUFF/experiment/experiment8.jpg\"\n",
    "PATH = \"images/TM_POST.jpg\"\n",
    "# 1 , 2, 3, 12, 5, 15, 8, 6\n",
    "#photo = open('/home/jack/Desktop/deep-dream-generator/notebooks/images/'+file_list[rnd]+'.jpg','rb')\n",
    "photo = open(PATH,'rb')\n",
    "response = twitter.upload_media(media=photo)\n",
    "twitter.update_status(status=STR, media_ids=[response['media_id']])\n"
   ]
  },
  {
   "cell_type": "code",
   "execution_count": 61,
   "metadata": {
    "collapsed": true
   },
   "outputs": [],
   "source": [
    "!showme images/TM_POST.jpg"
   ]
  },
  {
   "cell_type": "code",
   "execution_count": null,
   "metadata": {
    "collapsed": true
   },
   "outputs": [],
   "source": []
  }
 ],
 "metadata": {
  "kernelspec": {
   "display_name": "deep",
   "language": "python",
   "name": "deep"
  },
  "language_info": {
   "codemirror_mode": {
    "name": "ipython",
    "version": 3
   },
   "file_extension": ".py",
   "mimetype": "text/x-python",
   "name": "python",
   "nbconvert_exporter": "python",
   "pygments_lexer": "ipython3",
   "version": "3.7.13"
  }
 },
 "nbformat": 4,
 "nbformat_minor": 2
}
